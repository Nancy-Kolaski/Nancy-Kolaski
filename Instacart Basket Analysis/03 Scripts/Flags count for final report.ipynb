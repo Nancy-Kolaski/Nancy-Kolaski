{
 "cells": [
  {
   "cell_type": "code",
   "execution_count": 1,
   "id": "b74ead80",
   "metadata": {},
   "outputs": [],
   "source": [
    "import pandas as pd\n",
    "import numpy as np\n",
    "import os"
   ]
  },
  {
   "cell_type": "code",
   "execution_count": 2,
   "id": "85c332af",
   "metadata": {},
   "outputs": [],
   "source": [
    "# insert path\n",
    "path = r'/Users/nancykray/Desktop/Instacart Basket Analysis'"
   ]
  },
  {
   "cell_type": "code",
   "execution_count": 3,
   "id": "66e02439",
   "metadata": {},
   "outputs": [],
   "source": [
    "# insert newest dataset\n",
    "instacart = pd.read_pickle(os.path.join(path, '02 Data', 'Prepared Data', 'instacart_merged_2.pkl'))"
   ]
  },
  {
   "cell_type": "code",
   "execution_count": 4,
   "id": "de99efc5",
   "metadata": {},
   "outputs": [
    {
     "data": {
      "text/html": [
       "<div>\n",
       "<style scoped>\n",
       "    .dataframe tbody tr th:only-of-type {\n",
       "        vertical-align: middle;\n",
       "    }\n",
       "\n",
       "    .dataframe tbody tr th {\n",
       "        vertical-align: top;\n",
       "    }\n",
       "\n",
       "    .dataframe thead th {\n",
       "        text-align: right;\n",
       "    }\n",
       "</style>\n",
       "<table border=\"1\" class=\"dataframe\">\n",
       "  <thead>\n",
       "    <tr style=\"text-align: right;\">\n",
       "      <th></th>\n",
       "      <th>order_id</th>\n",
       "      <th>user_id</th>\n",
       "      <th>order_number</th>\n",
       "      <th>orders_day_of_week</th>\n",
       "      <th>order_time</th>\n",
       "      <th>days_since_prior_order</th>\n",
       "      <th>first_order</th>\n",
       "      <th>product_id</th>\n",
       "      <th>add_to_cart_order</th>\n",
       "      <th>reordered</th>\n",
       "      <th>...</th>\n",
       "      <th>income</th>\n",
       "      <th>region</th>\n",
       "      <th>low_activity</th>\n",
       "      <th>department</th>\n",
       "      <th>age_flag</th>\n",
       "      <th>living_flag</th>\n",
       "      <th>shop_time_flag</th>\n",
       "      <th>mean_orders</th>\n",
       "      <th>dep_popularity</th>\n",
       "      <th>top_products</th>\n",
       "    </tr>\n",
       "  </thead>\n",
       "  <tbody>\n",
       "    <tr>\n",
       "      <th>0</th>\n",
       "      <td>2539329</td>\n",
       "      <td>1</td>\n",
       "      <td>1</td>\n",
       "      <td>2</td>\n",
       "      <td>8</td>\n",
       "      <td>NaN</td>\n",
       "      <td>First Order</td>\n",
       "      <td>196</td>\n",
       "      <td>1</td>\n",
       "      <td>0</td>\n",
       "      <td>...</td>\n",
       "      <td>40423</td>\n",
       "      <td>South</td>\n",
       "      <td>False</td>\n",
       "      <td>beverages</td>\n",
       "      <td>30s &amp; 40s</td>\n",
       "      <td>With Family</td>\n",
       "      <td>Early Bird</td>\n",
       "      <td>17.901479</td>\n",
       "      <td>Not popular</td>\n",
       "      <td>nan</td>\n",
       "    </tr>\n",
       "    <tr>\n",
       "      <th>1</th>\n",
       "      <td>2398795</td>\n",
       "      <td>1</td>\n",
       "      <td>2</td>\n",
       "      <td>3</td>\n",
       "      <td>7</td>\n",
       "      <td>15.0</td>\n",
       "      <td>Repeat Customer</td>\n",
       "      <td>196</td>\n",
       "      <td>1</td>\n",
       "      <td>1</td>\n",
       "      <td>...</td>\n",
       "      <td>40423</td>\n",
       "      <td>South</td>\n",
       "      <td>False</td>\n",
       "      <td>beverages</td>\n",
       "      <td>30s &amp; 40s</td>\n",
       "      <td>With Family</td>\n",
       "      <td>Early Bird</td>\n",
       "      <td>17.901479</td>\n",
       "      <td>Not popular</td>\n",
       "      <td>nan</td>\n",
       "    </tr>\n",
       "    <tr>\n",
       "      <th>2</th>\n",
       "      <td>473747</td>\n",
       "      <td>1</td>\n",
       "      <td>3</td>\n",
       "      <td>3</td>\n",
       "      <td>12</td>\n",
       "      <td>21.0</td>\n",
       "      <td>Repeat Customer</td>\n",
       "      <td>196</td>\n",
       "      <td>1</td>\n",
       "      <td>1</td>\n",
       "      <td>...</td>\n",
       "      <td>40423</td>\n",
       "      <td>South</td>\n",
       "      <td>False</td>\n",
       "      <td>beverages</td>\n",
       "      <td>30s &amp; 40s</td>\n",
       "      <td>With Family</td>\n",
       "      <td>Regular</td>\n",
       "      <td>17.901479</td>\n",
       "      <td>Not popular</td>\n",
       "      <td>nan</td>\n",
       "    </tr>\n",
       "    <tr>\n",
       "      <th>3</th>\n",
       "      <td>2254736</td>\n",
       "      <td>1</td>\n",
       "      <td>4</td>\n",
       "      <td>4</td>\n",
       "      <td>7</td>\n",
       "      <td>29.0</td>\n",
       "      <td>Repeat Customer</td>\n",
       "      <td>196</td>\n",
       "      <td>1</td>\n",
       "      <td>1</td>\n",
       "      <td>...</td>\n",
       "      <td>40423</td>\n",
       "      <td>South</td>\n",
       "      <td>False</td>\n",
       "      <td>beverages</td>\n",
       "      <td>30s &amp; 40s</td>\n",
       "      <td>With Family</td>\n",
       "      <td>Early Bird</td>\n",
       "      <td>17.901479</td>\n",
       "      <td>Not popular</td>\n",
       "      <td>nan</td>\n",
       "    </tr>\n",
       "    <tr>\n",
       "      <th>4</th>\n",
       "      <td>431534</td>\n",
       "      <td>1</td>\n",
       "      <td>5</td>\n",
       "      <td>4</td>\n",
       "      <td>15</td>\n",
       "      <td>28.0</td>\n",
       "      <td>Repeat Customer</td>\n",
       "      <td>196</td>\n",
       "      <td>1</td>\n",
       "      <td>1</td>\n",
       "      <td>...</td>\n",
       "      <td>40423</td>\n",
       "      <td>South</td>\n",
       "      <td>False</td>\n",
       "      <td>beverages</td>\n",
       "      <td>30s &amp; 40s</td>\n",
       "      <td>With Family</td>\n",
       "      <td>Regular</td>\n",
       "      <td>17.901479</td>\n",
       "      <td>Not popular</td>\n",
       "      <td>nan</td>\n",
       "    </tr>\n",
       "  </tbody>\n",
       "</table>\n",
       "<p>5 rows × 40 columns</p>\n",
       "</div>"
      ],
      "text/plain": [
       "  order_id user_id  order_number  orders_day_of_week  order_time  \\\n",
       "0  2539329       1             1                   2           8   \n",
       "1  2398795       1             2                   3           7   \n",
       "2   473747       1             3                   3          12   \n",
       "3  2254736       1             4                   4           7   \n",
       "4   431534       1             5                   4          15   \n",
       "\n",
       "   days_since_prior_order      first_order product_id  add_to_cart_order  \\\n",
       "0                     NaN      First Order        196                  1   \n",
       "1                    15.0  Repeat Customer        196                  1   \n",
       "2                    21.0  Repeat Customer        196                  1   \n",
       "3                    29.0  Repeat Customer        196                  1   \n",
       "4                    28.0  Repeat Customer        196                  1   \n",
       "\n",
       "   reordered  ... income  region low_activity  department   age_flag  \\\n",
       "0          0  ...  40423   South        False   beverages  30s & 40s   \n",
       "1          1  ...  40423   South        False   beverages  30s & 40s   \n",
       "2          1  ...  40423   South        False   beverages  30s & 40s   \n",
       "3          1  ...  40423   South        False   beverages  30s & 40s   \n",
       "4          1  ...  40423   South        False   beverages  30s & 40s   \n",
       "\n",
       "   living_flag shop_time_flag mean_orders  dep_popularity top_products  \n",
       "0  With Family     Early Bird   17.901479     Not popular          nan  \n",
       "1  With Family     Early Bird   17.901479     Not popular          nan  \n",
       "2  With Family        Regular   17.901479     Not popular          nan  \n",
       "3  With Family     Early Bird   17.901479     Not popular          nan  \n",
       "4  With Family        Regular   17.901479     Not popular          nan  \n",
       "\n",
       "[5 rows x 40 columns]"
      ]
     },
     "execution_count": 4,
     "metadata": {},
     "output_type": "execute_result"
    }
   ],
   "source": [
    "#check head\n",
    "instacart.head()"
   ]
  },
  {
   "cell_type": "code",
   "execution_count": 8,
   "id": "e3bf89ab",
   "metadata": {},
   "outputs": [
    {
     "data": {
      "text/plain": [
       "Index(['order_id', 'user_id', 'order_number', 'orders_day_of_week',\n",
       "       'order_time', 'days_since_prior_order', 'first_order', 'product_id',\n",
       "       'add_to_cart_order', 'reordered', 'product_name', 'aisle_id',\n",
       "       'department_id', 'prices', 'price_range_loc', 'busiest_day',\n",
       "       'busiest_days', 'busiest_period_of_day', 'max_order', 'loyalty_flag',\n",
       "       'mean_product_price', 'spending_flag', 'customer_frequency',\n",
       "       'frequency_flag', 'gender', 'state', 'age', 'date_joined', 'dependants',\n",
       "       'marital_status', 'income', 'region', 'low_activity', 'department',\n",
       "       'age_flag', 'living_flag', 'shop_time_flag', 'mean_orders',\n",
       "       'dep_popularity', 'top_products'],\n",
       "      dtype='object')"
      ]
     },
     "execution_count": 8,
     "metadata": {},
     "output_type": "execute_result"
    }
   ],
   "source": [
    "instacart.columns"
   ]
  },
  {
   "cell_type": "code",
   "execution_count": 13,
   "id": "34ecea6e",
   "metadata": {},
   "outputs": [
    {
     "data": {
      "text/plain": [
       "price_range_loc\n",
       "Mid-range product     20891771\n",
       "Low-range product      9674840\n",
       "High-range product      397953\n",
       "Name: count, dtype: int64"
      ]
     },
     "execution_count": 13,
     "metadata": {},
     "output_type": "execute_result"
    }
   ],
   "source": [
    "instacart['price_range_loc'].value_counts(dropna=False)"
   ]
  },
  {
   "cell_type": "code",
   "execution_count": 14,
   "id": "3631eb7f",
   "metadata": {},
   "outputs": [
    {
     "data": {
      "text/plain": [
       "busiest_day\n",
       "Regularly busy    21430960\n",
       "Busiest day        5908610\n",
       "Least busy         3624994\n",
       "Name: count, dtype: int64"
      ]
     },
     "execution_count": 14,
     "metadata": {},
     "output_type": "execute_result"
    }
   ],
   "source": [
    "instacart['busiest_day'].value_counts(dropna=False)"
   ]
  },
  {
   "cell_type": "code",
   "execution_count": 15,
   "id": "9cc5fdaf",
   "metadata": {},
   "outputs": [
    {
     "data": {
      "text/plain": [
       "busiest_days\n",
       "Regularly busy     12349739\n",
       "Busiest days       11320296\n",
       "Least busy days     7294529\n",
       "Name: count, dtype: int64"
      ]
     },
     "execution_count": 15,
     "metadata": {},
     "output_type": "execute_result"
    }
   ],
   "source": [
    "instacart['busiest_days'].value_counts(dropna=False)"
   ]
  },
  {
   "cell_type": "code",
   "execution_count": 17,
   "id": "7dfd918c",
   "metadata": {},
   "outputs": [
    {
     "data": {
      "text/plain": [
       "busiest_period_of_day\n",
       "Most orders       20180856\n",
       "Average orders     9550810\n",
       "Fewest orders      1232898\n",
       "Name: count, dtype: int64"
      ]
     },
     "execution_count": 17,
     "metadata": {},
     "output_type": "execute_result"
    }
   ],
   "source": [
    "instacart['busiest_period_of_day'].value_counts(dropna=False)"
   ]
  },
  {
   "cell_type": "code",
   "execution_count": 18,
   "id": "278e8ce0",
   "metadata": {},
   "outputs": [
    {
     "data": {
      "text/plain": [
       "loyalty_flag\n",
       "Regular Customer    15876776\n",
       "Loyal Customer      10284093\n",
       "New Customer         4803695\n",
       "Name: count, dtype: int64"
      ]
     },
     "execution_count": 18,
     "metadata": {},
     "output_type": "execute_result"
    }
   ],
   "source": [
    "instacart['loyalty_flag'].value_counts(dropna=False)"
   ]
  },
  {
   "cell_type": "code",
   "execution_count": 19,
   "id": "406b5fce",
   "metadata": {},
   "outputs": [
    {
     "data": {
      "text/plain": [
       "frequency_flag\n",
       "Frequent Customer        21204476\n",
       "Regular Customer          6865113\n",
       "Non-frequent Customer     2894975\n",
       "Name: count, dtype: int64"
      ]
     },
     "execution_count": 19,
     "metadata": {},
     "output_type": "execute_result"
    }
   ],
   "source": [
    "instacart['frequency_flag'].value_counts(dropna=False)"
   ]
  },
  {
   "cell_type": "code",
   "execution_count": 20,
   "id": "e7d7c6c3",
   "metadata": {},
   "outputs": [
    {
     "data": {
      "text/plain": [
       "region\n",
       "South        10311139\n",
       "West          7927227\n",
       "Midwest       7261513\n",
       "Northeast     5464685\n",
       "Name: count, dtype: int64"
      ]
     },
     "execution_count": 20,
     "metadata": {},
     "output_type": "execute_result"
    }
   ],
   "source": [
    "instacart['region'].value_counts(dropna=False)"
   ]
  },
  {
   "cell_type": "code",
   "execution_count": 21,
   "id": "365a7042",
   "metadata": {},
   "outputs": [
    {
     "data": {
      "text/plain": [
       "age_flag\n",
       "30s & 40s      9730686\n",
       "Older Adult    8195544\n",
       "Middle Age     7220731\n",
       "Below_30       5817603\n",
       "Name: count, dtype: int64"
      ]
     },
     "execution_count": 21,
     "metadata": {},
     "output_type": "execute_result"
    }
   ],
   "source": [
    "instacart['age_flag'].value_counts(dropna=False)"
   ]
  },
  {
   "cell_type": "code",
   "execution_count": 22,
   "id": "9dd22f6b",
   "metadata": {},
   "outputs": [
    {
     "data": {
      "text/plain": [
       "living_flag\n",
       "With Family    23224883\n",
       "Alone           7739681\n",
       "Name: count, dtype: int64"
      ]
     },
     "execution_count": 22,
     "metadata": {},
     "output_type": "execute_result"
    }
   ],
   "source": [
    "instacart['living_flag'].value_counts(dropna=False)"
   ]
  },
  {
   "cell_type": "code",
   "execution_count": 24,
   "id": "23d53559",
   "metadata": {},
   "outputs": [
    {
     "data": {
      "text/plain": [
       "shop_time_flag\n",
       "Regular       24908263\n",
       "Night Owl      3168547\n",
       "Early Bird     2887754\n",
       "Name: count, dtype: int64"
      ]
     },
     "execution_count": 24,
     "metadata": {},
     "output_type": "execute_result"
    }
   ],
   "source": [
    "instacart['shop_time_flag'].value_counts(dropna=False)"
   ]
  },
  {
   "cell_type": "code",
   "execution_count": 25,
   "id": "887a3a9e",
   "metadata": {},
   "outputs": [
    {
     "data": {
      "text/plain": [
       "mean_orders\n",
       "18.495730    9079273\n",
       "18.324695    5177182\n",
       "17.830354    2766406\n",
       "17.901479    2571901\n",
       "16.160739    2121731\n",
       "17.328319    1782705\n",
       "17.856619    1120828\n",
       "16.933858    1012074\n",
       "17.144802    1003834\n",
       "16.633019     822136\n",
       "16.438914     699857\n",
       "16.576910     674781\n",
       "17.469987     670850\n",
       "16.933392     424306\n",
       "19.867090     410392\n",
       "17.174694     255991\n",
       "16.034226     144627\n",
       "15.995927      93060\n",
       "24.281327      64768\n",
       "18.096481      34411\n",
       "20.797555      33451\n",
       "Name: count, dtype: int64"
      ]
     },
     "execution_count": 25,
     "metadata": {},
     "output_type": "execute_result"
    }
   ],
   "source": [
    "instacart['mean_orders'].value_counts(dropna=False)"
   ]
  },
  {
   "cell_type": "code",
   "execution_count": 26,
   "id": "ccfb43bf",
   "metadata": {},
   "outputs": [
    {
     "data": {
      "text/plain": [
       "dep_popularity\n",
       "Not popular         16165087\n",
       "Regularly bought    14700298\n",
       "Most Popular           64768\n",
       "nan                    34411\n",
       "Name: count, dtype: int64"
      ]
     },
     "execution_count": 26,
     "metadata": {},
     "output_type": "execute_result"
    }
   ],
   "source": [
    "instacart['dep_popularity'].value_counts(dropna=False)"
   ]
  },
  {
   "cell_type": "code",
   "execution_count": 27,
   "id": "125e8453",
   "metadata": {},
   "outputs": [
    {
     "data": {
      "text/plain": [
       "spending_flag\n",
       "Low Spender     30361139\n",
       "High Spender      603425\n",
       "Name: count, dtype: int64"
      ]
     },
     "execution_count": 27,
     "metadata": {},
     "output_type": "execute_result"
    }
   ],
   "source": [
    "instacart['spending_flag'].value_counts(dropna=False)"
   ]
  },
  {
   "cell_type": "code",
   "execution_count": null,
   "id": "a1beb42b",
   "metadata": {},
   "outputs": [],
   "source": []
  }
 ],
 "metadata": {
  "kernelspec": {
   "display_name": "Python 3 (ipykernel)",
   "language": "python",
   "name": "python3"
  },
  "language_info": {
   "codemirror_mode": {
    "name": "ipython",
    "version": 3
   },
   "file_extension": ".py",
   "mimetype": "text/x-python",
   "name": "python",
   "nbconvert_exporter": "python",
   "pygments_lexer": "ipython3",
   "version": "3.11.7"
  }
 },
 "nbformat": 4,
 "nbformat_minor": 5
}
