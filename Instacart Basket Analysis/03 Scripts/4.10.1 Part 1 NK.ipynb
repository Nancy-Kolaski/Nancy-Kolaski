{
 "cells": [
  {
   "cell_type": "markdown",
   "id": "7f69d024",
   "metadata": {},
   "source": [
    "# 4.10 Coding Etiquette & Excel Reporting\n",
    "## -Consolidate results of Python analysis in a final report for stakeholders\n",
    "## -Prepare a population flow to demonstrate process of data cleaning\n",
    "### -Address Security issues, remove PII\n",
    "### -Create flags: region, exclusion flag for low-activity customers\n",
    "### -import department dataset, transpose, and merge into dataset for better visualizations (to see departments without having to use data dictionary), then export as 'instacart_highspender_dep_merge'\n",
    "### -create more flags: 'age_flag', 'living_flag', 'shop_time_flag', 'dep_popularity', 'mean_orders'\n",
    "### -export as 'instacart_merged_flagged' after flags added\n",
    "## CREATE VISUALIZATIONS\n",
    "#### - bar chart for spending habits per regions\n",
    "#### - bar chart for department and product popularity\n",
    "#### - histogram of product and prices\n",
    "#### - bar chart of top 10 products\n",
    "#### - pie chart for age groups\n",
    "#### - pie chart for living situation (alone vs. with family)\n",
    "#### - stacked bar chart of loyalty by age group & type of spenders by loyalty and age group\n",
    "#### - bar graph and pie chart for shopping time behaviors (early bird, night owl, regular)\n",
    "#### - line graph for shop times in relationship to departments\n",
    "#### - bar charts and stacked bar chart for top departments per regions\n",
    "## Aggregations for max, mean, and min variables on a customer-profile level for usage frequency and expenditure\n",
    "## Export as 'instacart_merged_2.pkl'\n"
   ]
  },
  {
   "cell_type": "markdown",
   "id": "52038f06",
   "metadata": {},
   "source": [
    "# Part 1:"
   ]
  },
  {
   "cell_type": "markdown",
   "id": "c4e49609",
   "metadata": {},
   "source": [
    "##  #1) Import libraries and newest, merged dataset"
   ]
  },
  {
   "cell_type": "code",
   "execution_count": 1,
   "id": "fa5201d6",
   "metadata": {},
   "outputs": [],
   "source": [
    "import pandas as pd\n",
    "import numpy as np\n",
    "import os\n",
    "import matplotlib.pyplot as plt\n",
    "import seaborn as sns\n",
    "import scipy"
   ]
  },
  {
   "cell_type": "code",
   "execution_count": 2,
   "id": "7ff44be5",
   "metadata": {},
   "outputs": [],
   "source": [
    "# insert path\n",
    "path = r'/Users/nancykray/Desktop/Instacart Basket Analysis'"
   ]
  },
  {
   "cell_type": "code",
   "execution_count": null,
   "id": "f80b31cf",
   "metadata": {},
   "outputs": [],
   "source": [
    "# insert newest dataset\n",
    "instacart = pd.read_pickle(os.path.join(path, '02 Data', 'Prepared Data', 'customers_orders_products_merged.pkl'))"
   ]
  },
  {
   "cell_type": "code",
   "execution_count": null,
   "id": "f59be1e6",
   "metadata": {},
   "outputs": [],
   "source": [
    "#check head to see if the new customers column is there\n",
    "instacart.head()"
   ]
  },
  {
   "cell_type": "markdown",
   "id": "445364d6",
   "metadata": {},
   "source": [
    "#### 'first_order' column shows new customers by 'first_order', otherwise marked as 'repeat customers'"
   ]
  },
  {
   "cell_type": "markdown",
   "id": "82c5c9db",
   "metadata": {},
   "source": [
    "# #2) Address security issues, remove PII Data"
   ]
  },
  {
   "cell_type": "code",
   "execution_count": null,
   "id": "3597e3fa",
   "metadata": {},
   "outputs": [],
   "source": [
    "#remove customer 'first_name' and 'surname' columns\n",
    "#instacart.drop(columns=['first_name', 'surname'])"
   ]
  },
  {
   "cell_type": "markdown",
   "id": "d00edd74",
   "metadata": {},
   "source": [
    "#### output has been removed to save space after check (noted below)"
   ]
  },
  {
   "cell_type": "code",
   "execution_count": null,
   "id": "63d14e4f",
   "metadata": {},
   "outputs": [],
   "source": [
    "# looks good, now permanently drop from dataset since this only visually removed it\n",
    "# then, remove ouput from above cell to save space\n",
    "instacart=instacart.drop(columns=['first_name', 'surname'])"
   ]
  },
  {
   "cell_type": "code",
   "execution_count": null,
   "id": "f08c890a",
   "metadata": {},
   "outputs": [],
   "source": [
    "#check the head to see if columns are gone\n",
    "instacart.head()"
   ]
  },
  {
   "cell_type": "markdown",
   "id": "8713cffe",
   "metadata": {},
   "source": [
    "## #3) The Instacart officers are interested in comparing customer behavior in different geographic areas. Create a regional segmentation of the data. You’ll need to create a “Region” column based on the “State” column from your customers data set. \n",
    "### use https://simple.wikipedia.org/wiki/List_of_regions_of_the_United_States to determine regions\n"
   ]
  },
  {
   "cell_type": "code",
   "execution_count": null,
   "id": "9be8f2f6",
   "metadata": {},
   "outputs": [],
   "source": [
    "# Define a function to segment states into regions using 'if' statements\n",
    "\n",
    "def region_label (row):\n",
    "    if row ['state'] in ('Maine','New Hampshire','Vermont','Massachusetts','Rhode Island', 'Connecticut','New York','Pennsylvania','New Jersey'):\n",
    "       return 'Northeast'\n",
    "    elif row ['state'] in ('Wisconsin','Michigan','Illinois','Indiana','Ohio','North Dakota','South Dakota','Nebraska','Kansas','Minnesota','Iowa','Missouri'):\n",
    "       return 'Midwest'\n",
    "    elif row ['state'] in ('Delaware','Maryland','District of Columbia','Virginia','West Virginia','North Carolina','South Carolina','Georgia','Florida','Kentucky', 'Tennessee', 'Mississippi','Alabama','Oklahoma','Texas','Arkansas','Louisiana'):\n",
    "        return 'South'\n",
    "    elif row ['state'] in ('Idaho','Montana','Wyoming','Nevada','Utah','Colorado','Arizona','New Mexico','Alaska','Washington','Oregon','California','Hawaii'):\n",
    "        return 'West'\n",
    "    else: return 'na'"
   ]
  },
  {
   "cell_type": "code",
   "execution_count": null,
   "id": "eb37a6b0",
   "metadata": {},
   "outputs": [],
   "source": [
    "# Create new column\n",
    "instacart['region'] = instacart.apply(region_label, axis=1)"
   ]
  },
  {
   "cell_type": "code",
   "execution_count": null,
   "id": "16125db9",
   "metadata": {},
   "outputs": [],
   "source": [
    "#Check the head to see if column 'region' is there\n",
    "instacart.head()"
   ]
  },
  {
   "cell_type": "markdown",
   "id": "d98113d1",
   "metadata": {},
   "source": [
    "## 3b) Determine whether there’s a difference in spending habits between the different U.S. regions. (Hint: You can do this by crossing the variable you just created with the spending flag.)"
   ]
  },
  {
   "cell_type": "code",
   "execution_count": null,
   "id": "ef38d4fa",
   "metadata": {},
   "outputs": [],
   "source": [
    "# check data values\n",
    "instacart['region'].value_counts()"
   ]
  },
  {
   "cell_type": "code",
   "execution_count": null,
   "id": "066849e3",
   "metadata": {},
   "outputs": [],
   "source": [
    "# check the length\n",
    "len(instacart)"
   ]
  },
  {
   "cell_type": "code",
   "execution_count": null,
   "id": "eaea86fb",
   "metadata": {},
   "outputs": [],
   "source": [
    "# create a crosstab\n",
    "crosstab = pd.crosstab(instacart['spending_flag'],instacart['region'], dropna = False)"
   ]
  },
  {
   "cell_type": "code",
   "execution_count": null,
   "id": "fe953670",
   "metadata": {},
   "outputs": [],
   "source": [
    "# check the crosstab\n",
    "crosstab"
   ]
  },
  {
   "cell_type": "code",
   "execution_count": null,
   "id": "6a323c30",
   "metadata": {},
   "outputs": [],
   "source": [
    "# Save it on excel (titled '4.10.1 crosstab_region_spending.xlsx')\n",
    "crosstab.to_clipboard()"
   ]
  },
  {
   "cell_type": "markdown",
   "id": "1a251057",
   "metadata": {},
   "source": [
    "## #4) The Instacart CFO isn’t interested in customers who don’t generate much revenue for the app. Create an exclusion flag for low-activity customers (customers with less than 5 orders) and exclude them from the data. Make sure you export this sample."
   ]
  },
  {
   "cell_type": "code",
   "execution_count": null,
   "id": "b56a0e5e",
   "metadata": {},
   "outputs": [],
   "source": [
    "#create a 'low_activity' column\n",
    "instacart.loc[instacart['max_order'] < 5, 'low_activity'] = 'True'"
   ]
  },
  {
   "cell_type": "code",
   "execution_count": null,
   "id": "2b2b56e5",
   "metadata": {},
   "outputs": [],
   "source": [
    "instacart.loc[instacart['max_order'] >= 5, 'low_activity'] = 'False'"
   ]
  },
  {
   "cell_type": "code",
   "execution_count": null,
   "id": "c38bb0bc",
   "metadata": {},
   "outputs": [],
   "source": [
    "instacart['low_activity'].value_counts()"
   ]
  },
  {
   "cell_type": "code",
   "execution_count": null,
   "id": "25066580",
   "metadata": {},
   "outputs": [],
   "source": [
    "# check the new 'low_activity' column in dataset\n",
    "instacart.head()"
   ]
  },
  {
   "cell_type": "code",
   "execution_count": null,
   "id": "37be7d7b",
   "metadata": {},
   "outputs": [],
   "source": [
    "# Create sample/table including only mid to high_activity customers\n",
    "mid_high_spender = instacart[instacart['low_activity'] == 'False']"
   ]
  },
  {
   "cell_type": "code",
   "execution_count": null,
   "id": "c468c19c",
   "metadata": {},
   "outputs": [],
   "source": [
    "# check to see the length and compare with False in table above\n",
    "len(mid_high_spender)"
   ]
  },
  {
   "cell_type": "markdown",
   "id": "3a7b95ce",
   "metadata": {},
   "source": [
    "#### It matches so the sample has been performed correctly.  Now we have to export it."
   ]
  },
  {
   "cell_type": "code",
   "execution_count": null,
   "id": "8e93d0c0",
   "metadata": {},
   "outputs": [],
   "source": [
    "# Export the sample\n",
    "mid_high_spender.to_pickle(os.path.join(path, '02 Data','Prepared Data','mid_high_spender.pkl'))"
   ]
  },
  {
   "cell_type": "markdown",
   "id": "dab12085",
   "metadata": {},
   "source": [
    "## #5) The marketing and business strategy units at Instacart want to create more-relevant marketing strategies for different products and are, thus, curious about customer profiling in their database. Create a profiling variable based on age, income, certain goods in the “department_id” column, and number of dependents. You might also use the “orders_day_of_week” and “order_hour_of_day” columns if you can think of a way they would impact customer profiles. (Hint: As an example, try thinking of what characteristics would lead you to the profile “Single adult” or “Young parent.”)"
   ]
  },
  {
   "cell_type": "code",
   "execution_count": null,
   "id": "6136d756",
   "metadata": {},
   "outputs": [],
   "source": [
    "instacart.columns"
   ]
  },
  {
   "cell_type": "markdown",
   "id": "d63ebb87",
   "metadata": {},
   "source": [
    "#### I want to bring in the department dataframe and merge it with my sample data set 'mid_high_spender' mid_high_spenderin order to best look at these observations"
   ]
  },
  {
   "cell_type": "code",
   "execution_count": null,
   "id": "c788f072",
   "metadata": {},
   "outputs": [],
   "source": [
    "#look at the department_id column of current dataset 'instagram'\n",
    "instacart['department_id'].head(10)"
   ]
  },
  {
   "cell_type": "markdown",
   "id": "3f2bf4bf",
   "metadata": {},
   "source": [
    "noting the data type here and will double check with departments dataset when merging to avoid mixed data"
   ]
  },
  {
   "cell_type": "code",
   "execution_count": null,
   "id": "a2154fd8",
   "metadata": {},
   "outputs": [],
   "source": [
    "# import department_wrangled.csv dataframe\n",
    "dep=pd.read_csv(os.path.join( path, '02 Data', 'Prepared Data', 'departments_wrangled.csv'))"
   ]
  },
  {
   "cell_type": "code",
   "execution_count": null,
   "id": "63efaf1d",
   "metadata": {},
   "outputs": [],
   "source": [
    "dep.head()"
   ]
  },
  {
   "cell_type": "code",
   "execution_count": null,
   "id": "d444d7ce",
   "metadata": {},
   "outputs": [],
   "source": [
    "# here, I became stumped because I could not understand why my headings were not how lesson 4.4 showed.\n",
    "# maybe they were exported incorrectly, so I decided to follow the prompts from the example"
   ]
  },
  {
   "cell_type": "markdown",
   "id": "ebe2de08",
   "metadata": {},
   "source": [
    "so instead, I will import the original departments.csv dataset and manipulate it again to get it transposed to fit the instacart sample dataset that I named 'mid_high_spender'"
   ]
  },
  {
   "cell_type": "code",
   "execution_count": null,
   "id": "961b6235",
   "metadata": {},
   "outputs": [],
   "source": [
    "# Import the departments.csv data set to include to the current 'instacart' dataframe\n",
    "dep = pd.read_csv(os.path.join( path, '02 Data', 'Original Data', 'departments.csv'))"
   ]
  },
  {
   "cell_type": "code",
   "execution_count": null,
   "id": "6b8423bd",
   "metadata": {},
   "outputs": [],
   "source": [
    "#check the head\n",
    "dep.head()"
   ]
  },
  {
   "cell_type": "code",
   "execution_count": null,
   "id": "efc97293",
   "metadata": {},
   "outputs": [],
   "source": [
    "#transpose this to fit prior to merging\n",
    "dep_t = dep.T"
   ]
  },
  {
   "cell_type": "code",
   "execution_count": null,
   "id": "415fd7b3",
   "metadata": {},
   "outputs": [],
   "source": [
    "#check head\n",
    "dep_t"
   ]
  },
  {
   "cell_type": "code",
   "execution_count": null,
   "id": "98144fe4",
   "metadata": {},
   "outputs": [],
   "source": [
    "#fix the heading\n",
    "dep_t.reset_index(inplace=True)"
   ]
  },
  {
   "cell_type": "code",
   "execution_count": null,
   "id": "05d6e51c",
   "metadata": {},
   "outputs": [],
   "source": [
    "#check head\n",
    "dep_t.head()"
   ]
  },
  {
   "cell_type": "code",
   "execution_count": null,
   "id": "1c7f39dc",
   "metadata": {},
   "outputs": [],
   "source": [
    "dep_t.columns = dep_t.iloc[0]"
   ]
  },
  {
   "cell_type": "code",
   "execution_count": null,
   "id": "3f58bc13",
   "metadata": {},
   "outputs": [],
   "source": [
    "# check transposed version of the entire dataset now\n",
    "dep_t"
   ]
  },
  {
   "cell_type": "code",
   "execution_count": null,
   "id": "e017a48b",
   "metadata": {},
   "outputs": [],
   "source": [
    "#check datatypes of the key column now to make sure they match prior to merging dep_t and mid_high_spender\n",
    "dep_t.dtypes"
   ]
  },
  {
   "cell_type": "code",
   "execution_count": null,
   "id": "3ee74c20",
   "metadata": {},
   "outputs": [],
   "source": [
    "#now check 'mid_high_spender' department_id column datatype\n",
    "mid_high_spender['department_id'].dtypes"
   ]
  },
  {
   "cell_type": "code",
   "execution_count": null,
   "id": "253b4c2f",
   "metadata": {},
   "outputs": [],
   "source": [
    "dep_t['department_id'] = dep_t['department_id'].astype(str)\n",
    "                                                    "
   ]
  },
  {
   "cell_type": "code",
   "execution_count": null,
   "id": "4b05723d",
   "metadata": {},
   "outputs": [],
   "source": [
    "dep_t['department_id'].dtypes"
   ]
  },
  {
   "cell_type": "code",
   "execution_count": null,
   "id": "4f9632d4",
   "metadata": {},
   "outputs": [],
   "source": [
    "mid_high_spender['department_id'].dtypes"
   ]
  },
  {
   "cell_type": "markdown",
   "id": "82489b72",
   "metadata": {},
   "source": [
    "now both department_id columns have the same datype.  I can now merge them"
   ]
  },
  {
   "cell_type": "code",
   "execution_count": null,
   "id": "3e5e5037",
   "metadata": {},
   "outputs": [],
   "source": [
    "# Combining data\n",
    "df_merged = mid_high_spender.merge(dep_t, on='department_id')"
   ]
  },
  {
   "cell_type": "code",
   "execution_count": null,
   "id": "83079add",
   "metadata": {},
   "outputs": [],
   "source": [
    "df_merged.head()"
   ]
  },
  {
   "cell_type": "markdown",
   "id": "8a8a6ee5",
   "metadata": {},
   "source": [
    "### note: with this merge, it would not allow me to use 'indicator=true' to check for a full match.  I see, however that I did return a _merge column so I think it is ok to proceed"
   ]
  },
  {
   "cell_type": "code",
   "execution_count": null,
   "id": "e079cd80",
   "metadata": {},
   "outputs": [],
   "source": [
    "#double check\n",
    "# Checking the result\n",
    "df_merged['_merge'].value_counts()"
   ]
  },
  {
   "cell_type": "code",
   "execution_count": null,
   "id": "a63f847e",
   "metadata": {},
   "outputs": [],
   "source": [
    "#drop the merge column to avoid confusion later on (should I want to merge this dataset)\n",
    "df_merged = df_merged.drop(columns =['_merge'])"
   ]
  },
  {
   "cell_type": "code",
   "execution_count": null,
   "id": "c941272c",
   "metadata": {},
   "outputs": [],
   "source": [
    "#check the values for 'departmnt' column\n",
    "df_merged['department'].value_counts()"
   ]
  },
  {
   "cell_type": "markdown",
   "id": "b8a8a8a3",
   "metadata": {},
   "source": [
    "### EXPORT this new  dataframe as 'instacart_highspender_dep_merge'"
   ]
  },
  {
   "cell_type": "code",
   "execution_count": null,
   "id": "1c5436ee",
   "metadata": {},
   "outputs": [],
   "source": [
    "# Exporting the data\n",
    "df_merged.to_pickle(os.path.join( path, '02 Data', 'Prepared Data', 'instacart_highspender_dep_merge.pkl'))"
   ]
  },
  {
   "cell_type": "markdown",
   "id": "68a64de2",
   "metadata": {},
   "source": [
    "## Customer profiling from #5"
   ]
  },
  {
   "cell_type": "code",
   "execution_count": null,
   "id": "3f7920ba",
   "metadata": {},
   "outputs": [],
   "source": [
    "# Import the new dataset\n",
    "df_merged = pd.read_pickle(os.path.join(path, '02 Data', 'Prepared Data', 'instacart_highspender_dep_merge.pkl'))"
   ]
  },
  {
   "cell_type": "code",
   "execution_count": null,
   "id": "6a2b58a7",
   "metadata": {},
   "outputs": [],
   "source": [
    "#check head\n",
    "df_merged.head()"
   ]
  },
  {
   "cell_type": "markdown",
   "id": "3f1d54f9",
   "metadata": {},
   "source": [
    "### Now I will create some FLAG columns to manipulate the data to find trends"
   ]
  },
  {
   "cell_type": "markdown",
   "id": "2aaf7dfc",
   "metadata": {},
   "source": [
    "## age_flag"
   ]
  },
  {
   "cell_type": "code",
   "execution_count": null,
   "id": "d7ebc567",
   "metadata": {},
   "outputs": [],
   "source": [
    "# create flag for young (< 30)\n",
    "df_merged.loc[df_merged['age'] < 30, 'age_flag']= 'Below_30'"
   ]
  },
  {
   "cell_type": "code",
   "execution_count": null,
   "id": "ba5e7bd8",
   "metadata": {},
   "outputs": [],
   "source": [
    "#create flag for 30-40s\n",
    "df_merged.loc[(df_merged['age'] >= 30) & (df_merged['age'] < 50), 'age_flag']= '30s & 40s'"
   ]
  },
  {
   "cell_type": "code",
   "execution_count": null,
   "id": "07805666",
   "metadata": {},
   "outputs": [],
   "source": [
    "#create flag for middle age before retrirement (50-64)\n",
    "df_merged.loc[(df_merged['age'] >=50) &(df_merged['age'] < 65), 'age_flag']= 'Middle Age'"
   ]
  },
  {
   "cell_type": "code",
   "execution_count": null,
   "id": "11045366",
   "metadata": {},
   "outputs": [],
   "source": [
    "#create flag for retired/Older Adult population\n",
    "df_merged.loc[df_merged['age'] >= 65, 'age_flag']= 'Older Adult'"
   ]
  },
  {
   "cell_type": "code",
   "execution_count": null,
   "id": "b5c642da",
   "metadata": {},
   "outputs": [],
   "source": [
    "#check values in these age flags\n",
    "df_merged['age_flag'].value_counts(dropna=False)"
   ]
  },
  {
   "cell_type": "code",
   "execution_count": null,
   "id": "e6ecde52",
   "metadata": {},
   "outputs": [],
   "source": [
    "#check the stats\n",
    "df_merged['age_flag'].describe()"
   ]
  },
  {
   "cell_type": "code",
   "execution_count": null,
   "id": "2c5c09a3",
   "metadata": {},
   "outputs": [],
   "source": [
    "#check head\n",
    "df_merged.head()"
   ]
  },
  {
   "cell_type": "markdown",
   "id": "35235b67",
   "metadata": {},
   "source": [
    "## living_flag"
   ]
  },
  {
   "cell_type": "code",
   "execution_count": null,
   "id": "771f780a",
   "metadata": {},
   "outputs": [],
   "source": [
    "# check info in 'dependants' column \n",
    "df_merged['dependants'].unique()"
   ]
  },
  {
   "cell_type": "code",
   "execution_count": null,
   "id": "d276cbfe",
   "metadata": {},
   "outputs": [],
   "source": [
    "#create flag for those living alone\n",
    "df_merged.loc[df_merged['dependants'] == 0, 'living_flag']= 'Alone'"
   ]
  },
  {
   "cell_type": "code",
   "execution_count": null,
   "id": "cd77e48f",
   "metadata": {},
   "outputs": [],
   "source": [
    "# create flag for those with dependants\n",
    "df_merged.loc[df_merged['dependants'] > 0, 'living_flag']= 'With Family'"
   ]
  },
  {
   "cell_type": "code",
   "execution_count": null,
   "id": "a7d7472a",
   "metadata": {},
   "outputs": [],
   "source": [
    "#check the stats for this flag\n",
    "df_merged['living_flag'].describe()"
   ]
  },
  {
   "cell_type": "code",
   "execution_count": null,
   "id": "b71526e1",
   "metadata": {},
   "outputs": [],
   "source": [
    "#check head\n",
    "df_merged.head()"
   ]
  },
  {
   "cell_type": "markdown",
   "id": "32560e06",
   "metadata": {},
   "source": [
    "## shop_time_flag"
   ]
  },
  {
   "cell_type": "code",
   "execution_count": null,
   "id": "2a92b80f",
   "metadata": {},
   "outputs": [],
   "source": [
    "# create a default flag for Regular shop times\n",
    "df_merged['shop_time_flag'] = 'Regular'"
   ]
  },
  {
   "cell_type": "code",
   "execution_count": null,
   "id": "6c795901",
   "metadata": {},
   "outputs": [],
   "source": [
    "# create flag for 'Early Bird' for orders between 5am and 8am\n",
    "df_merged.loc[df_merged['order_time'].between(5, 8), 'shop_time_flag'] = \"Early Bird\""
   ]
  },
  {
   "cell_type": "code",
   "execution_count": null,
   "id": "86d1feeb",
   "metadata": {},
   "outputs": [],
   "source": [
    "# create flag for 'Night Owl' for orders after 8pm and before 5am\n",
    "df_merged.loc[(df_merged['order_time'] >= 20) | (df_merged['order_time'] < 5), 'shop_time_flag'] = 'Night Owl'\n"
   ]
  },
  {
   "cell_type": "code",
   "execution_count": null,
   "id": "52afcc63",
   "metadata": {},
   "outputs": [],
   "source": [
    "#check the values\n",
    "df_merged['shop_time_flag'].value_counts(dropna=False)"
   ]
  },
  {
   "cell_type": "code",
   "execution_count": null,
   "id": "888c388a",
   "metadata": {},
   "outputs": [],
   "source": [
    "#check head to see all 3 new columns \n",
    "df_merged.head()"
   ]
  },
  {
   "cell_type": "code",
   "execution_count": null,
   "id": "e618941c",
   "metadata": {},
   "outputs": [],
   "source": [
    "#let's look at all of our columns and review our prior flagged columns:\n",
    "df_merged.columns"
   ]
  },
  {
   "cell_type": "markdown",
   "id": "0bd6deda",
   "metadata": {},
   "source": [
    "## *REVIEW previously created flags and insights:\n",
    "### 'busiest_day' created from 4.7 lesson, telling us that Saturday (0) is the busiest day and Wednesday (4) is the least busy day\n",
    "### 'busiest_period_of_day' created from lesson 4.4, telling us that 10am is the busiest hour for placing orders \n",
    "### 'max_order' created in 4.8, telling us that those in the 'loyalty_flag' column have > 40 orders \n",
    "### 'spending flag' created in 4.8 shows high/low/regular spenders\n",
    "### 'frequency_flag' created in 4.8 shows frequent/regular/non-frequent customers\n",
    "\n",
    "### 'mean_product_price' created in 4.8 looking at the mean of products and saw that produce sold more than household.  \n"
   ]
  },
  {
   "cell_type": "code",
   "execution_count": null,
   "id": "f0537b6e",
   "metadata": {},
   "outputs": [],
   "source": [
    "df_merged[['department_id', 'product_name','mean_product_price', 'prices']].head(50)"
   ]
  },
  {
   "cell_type": "markdown",
   "id": "66a679b9",
   "metadata": {},
   "source": [
    "## 'dep_popularity' flag"
   ]
  },
  {
   "cell_type": "code",
   "execution_count": null,
   "id": "e09b6cfd",
   "metadata": {},
   "outputs": [],
   "source": [
    "#check the means of orders for each department_id (average number of orders per user for each department_id)\n",
    "df_merged.groupby('department_id').agg({'order_number':['mean']})"
   ]
  },
  {
   "cell_type": "markdown",
   "id": "446d1efb",
   "metadata": {},
   "source": [
    "### first create a column for 'mean_orders' to be able to figure out the most popular department"
   ]
  },
  {
   "cell_type": "code",
   "execution_count": null,
   "id": "4b8372b2",
   "metadata": {},
   "outputs": [],
   "source": [
    "#use the transform() function for creating a 'mean_orders' column for each department_id\n",
    "df_merged['mean_orders']=df_merged.groupby(['department_id'])['order_number'].transform(np.mean)"
   ]
  },
  {
   "cell_type": "code",
   "execution_count": null,
   "id": "abb8c489",
   "metadata": {},
   "outputs": [],
   "source": [
    "#check the head of columns of interest\n",
    "df_merged[['mean_orders', 'department_id', 'order_number']].head(10)"
   ]
  },
  {
   "cell_type": "code",
   "execution_count": null,
   "id": "dd454ce7",
   "metadata": {},
   "outputs": [],
   "source": [
    "#check the stats in the new column to see how to separate the flag\n",
    "df_merged['mean_orders'].describe()"
   ]
  },
  {
   "cell_type": "code",
   "execution_count": null,
   "id": "c12934a2",
   "metadata": {},
   "outputs": [],
   "source": [
    "df_merged['mean_orders'].max()"
   ]
  },
  {
   "cell_type": "code",
   "execution_count": null,
   "id": "0fe9774a",
   "metadata": {},
   "outputs": [],
   "source": [
    "df_merged['mean_orders'].min()"
   ]
  },
  {
   "cell_type": "markdown",
   "id": "3b3d16d3",
   "metadata": {},
   "source": [
    "#### Now I can create the flags for this new column"
   ]
  },
  {
   "cell_type": "code",
   "execution_count": null,
   "id": "2ceca957",
   "metadata": {},
   "outputs": [],
   "source": [
    "#create flag, 'Not Popular' for non-popular department\n",
    "df_merged.loc[df_merged['mean_orders'] <=18, 'dep_popularity'] = 'Not popular'"
   ]
  },
  {
   "cell_type": "code",
   "execution_count": null,
   "id": "7ba71cab",
   "metadata": {},
   "outputs": [],
   "source": [
    "#create flag, 'Regularly bought' regularly popular department\n",
    "df_merged.loc[(df_merged['mean_orders'] >18.1) & (df_merged['mean_orders'] <=21) , 'dep_popularity'] = 'Regularly bought'"
   ]
  },
  {
   "cell_type": "code",
   "execution_count": null,
   "id": "96162a67",
   "metadata": {},
   "outputs": [],
   "source": [
    "#create flag, 'Most Popular' for most frequently bought department\n",
    "df_merged.loc[df_merged['mean_orders']>=21.1, 'dep_popularity'] = 'Most Popular'"
   ]
  },
  {
   "cell_type": "code",
   "execution_count": null,
   "id": "cb11ab2f",
   "metadata": {},
   "outputs": [],
   "source": [
    "#check head to see the new column\n",
    "df_merged.head()"
   ]
  },
  {
   "cell_type": "markdown",
   "id": "d0e587e6",
   "metadata": {},
   "source": [
    "## Export the final dataframe as 'instacart_merged_flagged'"
   ]
  },
  {
   "cell_type": "code",
   "execution_count": null,
   "id": "99c36bc5",
   "metadata": {},
   "outputs": [],
   "source": [
    "# Exporting the data since all of the flagged columns have been created and ready for visualizations\n",
    "df_merged.to_pickle(os.path.join( path, '02 Data', 'Prepared Data', 'instacart_merged_flagged.pkl'))"
   ]
  },
  {
   "cell_type": "markdown",
   "id": "702acac1",
   "metadata": {},
   "source": [
    "## #6) Create an appropriate visualization to show the distribution of profiles.\n"
   ]
  },
  {
   "cell_type": "code",
   "execution_count": 3,
   "id": "7d33e0db",
   "metadata": {},
   "outputs": [],
   "source": [
    "#Import the dataset for visualizations\n",
    "df_merged = pd.read_pickle(os.path.join(path, '02 Data', 'Prepared Data', 'instacart_merged_flagged.pkl'))"
   ]
  },
  {
   "cell_type": "code",
   "execution_count": 4,
   "id": "39299921",
   "metadata": {},
   "outputs": [
    {
     "data": {
      "text/html": [
       "<div>\n",
       "<style scoped>\n",
       "    .dataframe tbody tr th:only-of-type {\n",
       "        vertical-align: middle;\n",
       "    }\n",
       "\n",
       "    .dataframe tbody tr th {\n",
       "        vertical-align: top;\n",
       "    }\n",
       "\n",
       "    .dataframe thead th {\n",
       "        text-align: right;\n",
       "    }\n",
       "</style>\n",
       "<table border=\"1\" class=\"dataframe\">\n",
       "  <thead>\n",
       "    <tr style=\"text-align: right;\">\n",
       "      <th></th>\n",
       "      <th>order_id</th>\n",
       "      <th>user_id</th>\n",
       "      <th>order_number</th>\n",
       "      <th>orders_day_of_week</th>\n",
       "      <th>order_time</th>\n",
       "      <th>days_since_prior_order</th>\n",
       "      <th>first_order</th>\n",
       "      <th>product_id</th>\n",
       "      <th>add_to_cart_order</th>\n",
       "      <th>reordered</th>\n",
       "      <th>...</th>\n",
       "      <th>marital_status</th>\n",
       "      <th>income</th>\n",
       "      <th>region</th>\n",
       "      <th>low_activity</th>\n",
       "      <th>department</th>\n",
       "      <th>age_flag</th>\n",
       "      <th>living_flag</th>\n",
       "      <th>shop_time_flag</th>\n",
       "      <th>mean_orders</th>\n",
       "      <th>dep_popularity</th>\n",
       "    </tr>\n",
       "  </thead>\n",
       "  <tbody>\n",
       "    <tr>\n",
       "      <th>0</th>\n",
       "      <td>2539329</td>\n",
       "      <td>1</td>\n",
       "      <td>1</td>\n",
       "      <td>2</td>\n",
       "      <td>8</td>\n",
       "      <td>NaN</td>\n",
       "      <td>First Order</td>\n",
       "      <td>196</td>\n",
       "      <td>1</td>\n",
       "      <td>0</td>\n",
       "      <td>...</td>\n",
       "      <td>married</td>\n",
       "      <td>40423</td>\n",
       "      <td>South</td>\n",
       "      <td>False</td>\n",
       "      <td>beverages</td>\n",
       "      <td>30s &amp; 40s</td>\n",
       "      <td>With Family</td>\n",
       "      <td>Early Bird</td>\n",
       "      <td>17.901479</td>\n",
       "      <td>Not popular</td>\n",
       "    </tr>\n",
       "    <tr>\n",
       "      <th>1</th>\n",
       "      <td>2398795</td>\n",
       "      <td>1</td>\n",
       "      <td>2</td>\n",
       "      <td>3</td>\n",
       "      <td>7</td>\n",
       "      <td>15.0</td>\n",
       "      <td>Repeat Customer</td>\n",
       "      <td>196</td>\n",
       "      <td>1</td>\n",
       "      <td>1</td>\n",
       "      <td>...</td>\n",
       "      <td>married</td>\n",
       "      <td>40423</td>\n",
       "      <td>South</td>\n",
       "      <td>False</td>\n",
       "      <td>beverages</td>\n",
       "      <td>30s &amp; 40s</td>\n",
       "      <td>With Family</td>\n",
       "      <td>Early Bird</td>\n",
       "      <td>17.901479</td>\n",
       "      <td>Not popular</td>\n",
       "    </tr>\n",
       "    <tr>\n",
       "      <th>2</th>\n",
       "      <td>473747</td>\n",
       "      <td>1</td>\n",
       "      <td>3</td>\n",
       "      <td>3</td>\n",
       "      <td>12</td>\n",
       "      <td>21.0</td>\n",
       "      <td>Repeat Customer</td>\n",
       "      <td>196</td>\n",
       "      <td>1</td>\n",
       "      <td>1</td>\n",
       "      <td>...</td>\n",
       "      <td>married</td>\n",
       "      <td>40423</td>\n",
       "      <td>South</td>\n",
       "      <td>False</td>\n",
       "      <td>beverages</td>\n",
       "      <td>30s &amp; 40s</td>\n",
       "      <td>With Family</td>\n",
       "      <td>Regular</td>\n",
       "      <td>17.901479</td>\n",
       "      <td>Not popular</td>\n",
       "    </tr>\n",
       "    <tr>\n",
       "      <th>3</th>\n",
       "      <td>2254736</td>\n",
       "      <td>1</td>\n",
       "      <td>4</td>\n",
       "      <td>4</td>\n",
       "      <td>7</td>\n",
       "      <td>29.0</td>\n",
       "      <td>Repeat Customer</td>\n",
       "      <td>196</td>\n",
       "      <td>1</td>\n",
       "      <td>1</td>\n",
       "      <td>...</td>\n",
       "      <td>married</td>\n",
       "      <td>40423</td>\n",
       "      <td>South</td>\n",
       "      <td>False</td>\n",
       "      <td>beverages</td>\n",
       "      <td>30s &amp; 40s</td>\n",
       "      <td>With Family</td>\n",
       "      <td>Early Bird</td>\n",
       "      <td>17.901479</td>\n",
       "      <td>Not popular</td>\n",
       "    </tr>\n",
       "    <tr>\n",
       "      <th>4</th>\n",
       "      <td>431534</td>\n",
       "      <td>1</td>\n",
       "      <td>5</td>\n",
       "      <td>4</td>\n",
       "      <td>15</td>\n",
       "      <td>28.0</td>\n",
       "      <td>Repeat Customer</td>\n",
       "      <td>196</td>\n",
       "      <td>1</td>\n",
       "      <td>1</td>\n",
       "      <td>...</td>\n",
       "      <td>married</td>\n",
       "      <td>40423</td>\n",
       "      <td>South</td>\n",
       "      <td>False</td>\n",
       "      <td>beverages</td>\n",
       "      <td>30s &amp; 40s</td>\n",
       "      <td>With Family</td>\n",
       "      <td>Regular</td>\n",
       "      <td>17.901479</td>\n",
       "      <td>Not popular</td>\n",
       "    </tr>\n",
       "  </tbody>\n",
       "</table>\n",
       "<p>5 rows × 39 columns</p>\n",
       "</div>"
      ],
      "text/plain": [
       "  order_id user_id  order_number  orders_day_of_week  order_time  \\\n",
       "0  2539329       1             1                   2           8   \n",
       "1  2398795       1             2                   3           7   \n",
       "2   473747       1             3                   3          12   \n",
       "3  2254736       1             4                   4           7   \n",
       "4   431534       1             5                   4          15   \n",
       "\n",
       "   days_since_prior_order      first_order product_id  add_to_cart_order  \\\n",
       "0                     NaN      First Order        196                  1   \n",
       "1                    15.0  Repeat Customer        196                  1   \n",
       "2                    21.0  Repeat Customer        196                  1   \n",
       "3                    29.0  Repeat Customer        196                  1   \n",
       "4                    28.0  Repeat Customer        196                  1   \n",
       "\n",
       "   reordered  ... marital_status  income region  low_activity department  \\\n",
       "0          0  ...        married   40423  South         False  beverages   \n",
       "1          1  ...        married   40423  South         False  beverages   \n",
       "2          1  ...        married   40423  South         False  beverages   \n",
       "3          1  ...        married   40423  South         False  beverages   \n",
       "4          1  ...        married   40423  South         False  beverages   \n",
       "\n",
       "    age_flag  living_flag shop_time_flag  mean_orders dep_popularity  \n",
       "0  30s & 40s  With Family     Early Bird    17.901479    Not popular  \n",
       "1  30s & 40s  With Family     Early Bird    17.901479    Not popular  \n",
       "2  30s & 40s  With Family        Regular    17.901479    Not popular  \n",
       "3  30s & 40s  With Family     Early Bird    17.901479    Not popular  \n",
       "4  30s & 40s  With Family        Regular    17.901479    Not popular  \n",
       "\n",
       "[5 rows x 39 columns]"
      ]
     },
     "execution_count": 4,
     "metadata": {},
     "output_type": "execute_result"
    }
   ],
   "source": [
    "df_merged.head()"
   ]
  },
  {
   "cell_type": "markdown",
   "id": "61d2968f",
   "metadata": {},
   "source": [
    "### Create visualization for spending habits per regions"
   ]
  },
  {
   "cell_type": "code",
   "execution_count": 6,
   "id": "2e91e374",
   "metadata": {},
   "outputs": [
    {
     "data": {
      "text/html": [
       "<div>\n",
       "<style scoped>\n",
       "    .dataframe tbody tr th:only-of-type {\n",
       "        vertical-align: middle;\n",
       "    }\n",
       "\n",
       "    .dataframe tbody tr th {\n",
       "        vertical-align: top;\n",
       "    }\n",
       "\n",
       "    .dataframe thead th {\n",
       "        text-align: right;\n",
       "    }\n",
       "</style>\n",
       "<table border=\"1\" class=\"dataframe\">\n",
       "  <thead>\n",
       "    <tr style=\"text-align: right;\">\n",
       "      <th></th>\n",
       "      <th>spending_flag</th>\n",
       "      <th>region</th>\n",
       "    </tr>\n",
       "  </thead>\n",
       "  <tbody>\n",
       "    <tr>\n",
       "      <th>0</th>\n",
       "      <td>Low Spender</td>\n",
       "      <td>South</td>\n",
       "    </tr>\n",
       "    <tr>\n",
       "      <th>1</th>\n",
       "      <td>Low Spender</td>\n",
       "      <td>South</td>\n",
       "    </tr>\n",
       "    <tr>\n",
       "      <th>2</th>\n",
       "      <td>Low Spender</td>\n",
       "      <td>South</td>\n",
       "    </tr>\n",
       "    <tr>\n",
       "      <th>3</th>\n",
       "      <td>Low Spender</td>\n",
       "      <td>South</td>\n",
       "    </tr>\n",
       "    <tr>\n",
       "      <th>4</th>\n",
       "      <td>Low Spender</td>\n",
       "      <td>South</td>\n",
       "    </tr>\n",
       "  </tbody>\n",
       "</table>\n",
       "</div>"
      ],
      "text/plain": [
       "  spending_flag region\n",
       "0   Low Spender  South\n",
       "1   Low Spender  South\n",
       "2   Low Spender  South\n",
       "3   Low Spender  South\n",
       "4   Low Spender  South"
      ]
     },
     "execution_count": 6,
     "metadata": {},
     "output_type": "execute_result"
    }
   ],
   "source": [
    "df_merged[['spending_flag','region']].head()"
   ]
  },
  {
   "cell_type": "code",
   "execution_count": 7,
   "id": "b3b1c5e1",
   "metadata": {},
   "outputs": [],
   "source": [
    "#import crosstab with spending habits for creating a chart\n",
    "region_spendings = pd.read_excel(os.path.join(path,'02 Data','Prepared Data', '4.10 crosstabs', '4.10.1 crosstab_region_spending.xlsx'))"
   ]
  },
  {
   "cell_type": "code",
   "execution_count": 8,
   "id": "5b920d34",
   "metadata": {},
   "outputs": [
    {
     "data": {
      "text/html": [
       "<div>\n",
       "<style scoped>\n",
       "    .dataframe tbody tr th:only-of-type {\n",
       "        vertical-align: middle;\n",
       "    }\n",
       "\n",
       "    .dataframe tbody tr th {\n",
       "        vertical-align: top;\n",
       "    }\n",
       "\n",
       "    .dataframe thead th {\n",
       "        text-align: right;\n",
       "    }\n",
       "</style>\n",
       "<table border=\"1\" class=\"dataframe\">\n",
       "  <thead>\n",
       "    <tr style=\"text-align: right;\">\n",
       "      <th></th>\n",
       "      <th>spending_flag</th>\n",
       "      <th>Midwest</th>\n",
       "      <th>Northeast</th>\n",
       "      <th>South</th>\n",
       "      <th>West</th>\n",
       "    </tr>\n",
       "  </thead>\n",
       "  <tbody>\n",
       "    <tr>\n",
       "      <th>0</th>\n",
       "      <td>High Spender</td>\n",
       "      <td>155975</td>\n",
       "      <td>108225</td>\n",
       "      <td>209691</td>\n",
       "      <td>160354</td>\n",
       "    </tr>\n",
       "    <tr>\n",
       "      <th>1</th>\n",
       "      <td>Low Spender</td>\n",
       "      <td>7441350</td>\n",
       "      <td>5614511</td>\n",
       "      <td>10582194</td>\n",
       "      <td>8132559</td>\n",
       "    </tr>\n",
       "  </tbody>\n",
       "</table>\n",
       "</div>"
      ],
      "text/plain": [
       "  spending_flag  Midwest  Northeast     South     West\n",
       "0  High Spender   155975     108225    209691   160354\n",
       "1   Low Spender  7441350    5614511  10582194  8132559"
      ]
     },
     "execution_count": 8,
     "metadata": {},
     "output_type": "execute_result"
    }
   ],
   "source": [
    "region_spendings"
   ]
  },
  {
   "cell_type": "code",
   "execution_count": 9,
   "id": "29d3b41c",
   "metadata": {},
   "outputs": [
    {
     "data": {
      "text/plain": [
       "Text(0.5, 1.0, 'Spending Across Regions')"
      ]
     },
     "execution_count": 9,
     "metadata": {},
     "output_type": "execute_result"
    },
    {
     "data": {
      "image/png": "[encoded data removed]",
      "text/plain": [
       "<Figure size 640x480 with 1 Axes>"
      ]
     },
     "metadata": {},
     "output_type": "display_data"
    }
   ],
   "source": [
    "bar = region_spendings.plot.bar(rot=0)\n",
    "plt.xlabel(\"Low                  vs.                      High Spenders\")\n",
    "plt.ylabel(\"spendings\")\n",
    "plt.title(\"Spending Across Regions\")\n"
   ]
  },
  {
   "cell_type": "markdown",
   "id": "23082380",
   "metadata": {},
   "source": [
    "##### South Regions have the make the most sales across all types of spenders (high spenders and low spenders).  In fact, all regions show the same trends, with South Regions spending the most, followed by West, then Midwest, and last in the Northeast.  "
   ]
  },
  {
   "cell_type": "code",
   "execution_count": 10,
   "id": "c1712ce0",
   "metadata": {},
   "outputs": [],
   "source": [
    "# EXPORT BAR GRAPH 'bar_reg_spendings.png' \n",
    "bar.figure.savefig(os.path.join(path,'04 Analysis', 'Visualizations', 'bar_reg_spendings.png'))"
   ]
  },
  {
   "cell_type": "markdown",
   "id": "d93fdee5",
   "metadata": {},
   "source": [
    "## Let's find a visualization for department and product popularity"
   ]
  },
  {
   "cell_type": "code",
   "execution_count": 11,
   "id": "1b2edca1",
   "metadata": {},
   "outputs": [
    {
     "data": {
      "text/html": [
       "<div>\n",
       "<style scoped>\n",
       "    .dataframe tbody tr th:only-of-type {\n",
       "        vertical-align: middle;\n",
       "    }\n",
       "\n",
       "    .dataframe tbody tr th {\n",
       "        vertical-align: top;\n",
       "    }\n",
       "\n",
       "    .dataframe thead th {\n",
       "        text-align: right;\n",
       "    }\n",
       "</style>\n",
       "<table border=\"1\" class=\"dataframe\">\n",
       "  <thead>\n",
       "    <tr style=\"text-align: right;\">\n",
       "      <th></th>\n",
       "      <th>order_id</th>\n",
       "      <th>user_id</th>\n",
       "      <th>order_number</th>\n",
       "      <th>orders_day_of_week</th>\n",
       "      <th>order_time</th>\n",
       "      <th>days_since_prior_order</th>\n",
       "      <th>first_order</th>\n",
       "      <th>product_id</th>\n",
       "      <th>add_to_cart_order</th>\n",
       "      <th>reordered</th>\n",
       "      <th>...</th>\n",
       "      <th>marital_status</th>\n",
       "      <th>income</th>\n",
       "      <th>region</th>\n",
       "      <th>low_activity</th>\n",
       "      <th>department</th>\n",
       "      <th>age_flag</th>\n",
       "      <th>living_flag</th>\n",
       "      <th>shop_time_flag</th>\n",
       "      <th>mean_orders</th>\n",
       "      <th>dep_popularity</th>\n",
       "    </tr>\n",
       "  </thead>\n",
       "  <tbody>\n",
       "    <tr>\n",
       "      <th>0</th>\n",
       "      <td>2539329</td>\n",
       "      <td>1</td>\n",
       "      <td>1</td>\n",
       "      <td>2</td>\n",
       "      <td>8</td>\n",
       "      <td>NaN</td>\n",
       "      <td>First Order</td>\n",
       "      <td>196</td>\n",
       "      <td>1</td>\n",
       "      <td>0</td>\n",
       "      <td>...</td>\n",
       "      <td>married</td>\n",
       "      <td>40423</td>\n",
       "      <td>South</td>\n",
       "      <td>False</td>\n",
       "      <td>beverages</td>\n",
       "      <td>30s &amp; 40s</td>\n",
       "      <td>With Family</td>\n",
       "      <td>Early Bird</td>\n",
       "      <td>17.901479</td>\n",
       "      <td>Not popular</td>\n",
       "    </tr>\n",
       "    <tr>\n",
       "      <th>1</th>\n",
       "      <td>2398795</td>\n",
       "      <td>1</td>\n",
       "      <td>2</td>\n",
       "      <td>3</td>\n",
       "      <td>7</td>\n",
       "      <td>15.0</td>\n",
       "      <td>Repeat Customer</td>\n",
       "      <td>196</td>\n",
       "      <td>1</td>\n",
       "      <td>1</td>\n",
       "      <td>...</td>\n",
       "      <td>married</td>\n",
       "      <td>40423</td>\n",
       "      <td>South</td>\n",
       "      <td>False</td>\n",
       "      <td>beverages</td>\n",
       "      <td>30s &amp; 40s</td>\n",
       "      <td>With Family</td>\n",
       "      <td>Early Bird</td>\n",
       "      <td>17.901479</td>\n",
       "      <td>Not popular</td>\n",
       "    </tr>\n",
       "    <tr>\n",
       "      <th>2</th>\n",
       "      <td>473747</td>\n",
       "      <td>1</td>\n",
       "      <td>3</td>\n",
       "      <td>3</td>\n",
       "      <td>12</td>\n",
       "      <td>21.0</td>\n",
       "      <td>Repeat Customer</td>\n",
       "      <td>196</td>\n",
       "      <td>1</td>\n",
       "      <td>1</td>\n",
       "      <td>...</td>\n",
       "      <td>married</td>\n",
       "      <td>40423</td>\n",
       "      <td>South</td>\n",
       "      <td>False</td>\n",
       "      <td>beverages</td>\n",
       "      <td>30s &amp; 40s</td>\n",
       "      <td>With Family</td>\n",
       "      <td>Regular</td>\n",
       "      <td>17.901479</td>\n",
       "      <td>Not popular</td>\n",
       "    </tr>\n",
       "    <tr>\n",
       "      <th>3</th>\n",
       "      <td>2254736</td>\n",
       "      <td>1</td>\n",
       "      <td>4</td>\n",
       "      <td>4</td>\n",
       "      <td>7</td>\n",
       "      <td>29.0</td>\n",
       "      <td>Repeat Customer</td>\n",
       "      <td>196</td>\n",
       "      <td>1</td>\n",
       "      <td>1</td>\n",
       "      <td>...</td>\n",
       "      <td>married</td>\n",
       "      <td>40423</td>\n",
       "      <td>South</td>\n",
       "      <td>False</td>\n",
       "      <td>beverages</td>\n",
       "      <td>30s &amp; 40s</td>\n",
       "      <td>With Family</td>\n",
       "      <td>Early Bird</td>\n",
       "      <td>17.901479</td>\n",
       "      <td>Not popular</td>\n",
       "    </tr>\n",
       "    <tr>\n",
       "      <th>4</th>\n",
       "      <td>431534</td>\n",
       "      <td>1</td>\n",
       "      <td>5</td>\n",
       "      <td>4</td>\n",
       "      <td>15</td>\n",
       "      <td>28.0</td>\n",
       "      <td>Repeat Customer</td>\n",
       "      <td>196</td>\n",
       "      <td>1</td>\n",
       "      <td>1</td>\n",
       "      <td>...</td>\n",
       "      <td>married</td>\n",
       "      <td>40423</td>\n",
       "      <td>South</td>\n",
       "      <td>False</td>\n",
       "      <td>beverages</td>\n",
       "      <td>30s &amp; 40s</td>\n",
       "      <td>With Family</td>\n",
       "      <td>Regular</td>\n",
       "      <td>17.901479</td>\n",
       "      <td>Not popular</td>\n",
       "    </tr>\n",
       "  </tbody>\n",
       "</table>\n",
       "<p>5 rows × 39 columns</p>\n",
       "</div>"
      ],
      "text/plain": [
       "  order_id user_id  order_number  orders_day_of_week  order_time  \\\n",
       "0  2539329       1             1                   2           8   \n",
       "1  2398795       1             2                   3           7   \n",
       "2   473747       1             3                   3          12   \n",
       "3  2254736       1             4                   4           7   \n",
       "4   431534       1             5                   4          15   \n",
       "\n",
       "   days_since_prior_order      first_order product_id  add_to_cart_order  \\\n",
       "0                     NaN      First Order        196                  1   \n",
       "1                    15.0  Repeat Customer        196                  1   \n",
       "2                    21.0  Repeat Customer        196                  1   \n",
       "3                    29.0  Repeat Customer        196                  1   \n",
       "4                    28.0  Repeat Customer        196                  1   \n",
       "\n",
       "   reordered  ... marital_status  income region  low_activity department  \\\n",
       "0          0  ...        married   40423  South         False  beverages   \n",
       "1          1  ...        married   40423  South         False  beverages   \n",
       "2          1  ...        married   40423  South         False  beverages   \n",
       "3          1  ...        married   40423  South         False  beverages   \n",
       "4          1  ...        married   40423  South         False  beverages   \n",
       "\n",
       "    age_flag  living_flag shop_time_flag  mean_orders dep_popularity  \n",
       "0  30s & 40s  With Family     Early Bird    17.901479    Not popular  \n",
       "1  30s & 40s  With Family     Early Bird    17.901479    Not popular  \n",
       "2  30s & 40s  With Family        Regular    17.901479    Not popular  \n",
       "3  30s & 40s  With Family     Early Bird    17.901479    Not popular  \n",
       "4  30s & 40s  With Family        Regular    17.901479    Not popular  \n",
       "\n",
       "[5 rows x 39 columns]"
      ]
     },
     "execution_count": 11,
     "metadata": {},
     "output_type": "execute_result"
    }
   ],
   "source": [
    "# review columns\n",
    "df_merged.head()"
   ]
  },
  {
   "cell_type": "code",
   "execution_count": 12,
   "id": "2a529459",
   "metadata": {},
   "outputs": [],
   "source": [
    "#let's look at the 'department' and their corresponding 'department_id'\n",
    "List_Of_Categories_In_Column=list(df_merged[['department_id', 'department']].value_counts().index)"
   ]
  },
  {
   "cell_type": "code",
   "execution_count": 13,
   "id": "48ec324a",
   "metadata": {},
   "outputs": [
    {
     "data": {
      "text/plain": [
       "[('4', 'produce'),\n",
       " ('16', 'dairy eggs'),\n",
       " ('19', 'snacks'),\n",
       " ('7', 'beverages'),\n",
       " ('1', 'frozen'),\n",
       " ('13', 'pantry'),\n",
       " ('3', 'bakery'),\n",
       " ('15', 'canned goods'),\n",
       " ('20', 'deli'),\n",
       " ('9', 'dry goods pasta'),\n",
       " ('17', 'household'),\n",
       " ('12', 'meat seafood'),\n",
       " ('14', 'breakfast'),\n",
       " ('11', 'personal care'),\n",
       " ('18', 'babies'),\n",
       " ('6', 'international'),\n",
       " ('5', 'alcohol'),\n",
       " ('8', 'pets'),\n",
       " ('21', 'missing'),\n",
       " ('2', 'other'),\n",
       " ('10', 'bulk')]"
      ]
     },
     "execution_count": 13,
     "metadata": {},
     "output_type": "execute_result"
    }
   ],
   "source": [
    "List_Of_Categories_In_Column"
   ]
  },
  {
   "cell_type": "code",
   "execution_count": 14,
   "id": "d56f582e",
   "metadata": {},
   "outputs": [
    {
     "data": {
      "text/html": [
       "<div>\n",
       "<style scoped>\n",
       "    .dataframe tbody tr th:only-of-type {\n",
       "        vertical-align: middle;\n",
       "    }\n",
       "\n",
       "    .dataframe tbody tr th {\n",
       "        vertical-align: top;\n",
       "    }\n",
       "\n",
       "    .dataframe thead tr th {\n",
       "        text-align: left;\n",
       "    }\n",
       "\n",
       "    .dataframe thead tr:last-of-type th {\n",
       "        text-align: right;\n",
       "    }\n",
       "</style>\n",
       "<table border=\"1\" class=\"dataframe\">\n",
       "  <thead>\n",
       "    <tr>\n",
       "      <th></th>\n",
       "      <th>order_number</th>\n",
       "    </tr>\n",
       "    <tr>\n",
       "      <th></th>\n",
       "      <th>mean</th>\n",
       "    </tr>\n",
       "    <tr>\n",
       "      <th>department_id</th>\n",
       "      <th></th>\n",
       "    </tr>\n",
       "  </thead>\n",
       "  <tbody>\n",
       "    <tr>\n",
       "      <th>1</th>\n",
       "      <td>16.160739</td>\n",
       "    </tr>\n",
       "    <tr>\n",
       "      <th>10</th>\n",
       "      <td>20.797555</td>\n",
       "    </tr>\n",
       "    <tr>\n",
       "      <th>11</th>\n",
       "      <td>16.933392</td>\n",
       "    </tr>\n",
       "    <tr>\n",
       "      <th>12</th>\n",
       "      <td>16.576910</td>\n",
       "    </tr>\n",
       "    <tr>\n",
       "      <th>13</th>\n",
       "      <td>17.328319</td>\n",
       "    </tr>\n",
       "    <tr>\n",
       "      <th>14</th>\n",
       "      <td>17.469987</td>\n",
       "    </tr>\n",
       "    <tr>\n",
       "      <th>15</th>\n",
       "      <td>16.933858</td>\n",
       "    </tr>\n",
       "    <tr>\n",
       "      <th>16</th>\n",
       "      <td>18.324695</td>\n",
       "    </tr>\n",
       "    <tr>\n",
       "      <th>17</th>\n",
       "      <td>16.438914</td>\n",
       "    </tr>\n",
       "    <tr>\n",
       "      <th>18</th>\n",
       "      <td>19.867090</td>\n",
       "    </tr>\n",
       "    <tr>\n",
       "      <th>19</th>\n",
       "      <td>17.830354</td>\n",
       "    </tr>\n",
       "    <tr>\n",
       "      <th>2</th>\n",
       "      <td>18.096481</td>\n",
       "    </tr>\n",
       "    <tr>\n",
       "      <th>20</th>\n",
       "      <td>17.144802</td>\n",
       "    </tr>\n",
       "    <tr>\n",
       "      <th>21</th>\n",
       "      <td>24.281327</td>\n",
       "    </tr>\n",
       "    <tr>\n",
       "      <th>3</th>\n",
       "      <td>17.856619</td>\n",
       "    </tr>\n",
       "    <tr>\n",
       "      <th>4</th>\n",
       "      <td>18.495730</td>\n",
       "    </tr>\n",
       "    <tr>\n",
       "      <th>5</th>\n",
       "      <td>16.034226</td>\n",
       "    </tr>\n",
       "    <tr>\n",
       "      <th>6</th>\n",
       "      <td>17.174694</td>\n",
       "    </tr>\n",
       "    <tr>\n",
       "      <th>7</th>\n",
       "      <td>17.901479</td>\n",
       "    </tr>\n",
       "    <tr>\n",
       "      <th>8</th>\n",
       "      <td>15.995927</td>\n",
       "    </tr>\n",
       "    <tr>\n",
       "      <th>9</th>\n",
       "      <td>16.633019</td>\n",
       "    </tr>\n",
       "  </tbody>\n",
       "</table>\n",
       "</div>"
      ],
      "text/plain": [
       "              order_number\n",
       "                      mean\n",
       "department_id             \n",
       "1                16.160739\n",
       "10               20.797555\n",
       "11               16.933392\n",
       "12               16.576910\n",
       "13               17.328319\n",
       "14               17.469987\n",
       "15               16.933858\n",
       "16               18.324695\n",
       "17               16.438914\n",
       "18               19.867090\n",
       "19               17.830354\n",
       "2                18.096481\n",
       "20               17.144802\n",
       "21               24.281327\n",
       "3                17.856619\n",
       "4                18.495730\n",
       "5                16.034226\n",
       "6                17.174694\n",
       "7                17.901479\n",
       "8                15.995927\n",
       "9                16.633019"
      ]
     },
     "execution_count": 14,
     "metadata": {},
     "output_type": "execute_result"
    }
   ],
   "source": [
    "df_merged.groupby('department_id').agg({'order_number':['mean']})"
   ]
  },
  {
   "cell_type": "code",
   "execution_count": 15,
   "id": "c2f78ae4",
   "metadata": {},
   "outputs": [
    {
     "data": {
      "text/plain": [
       "dep_popularity\n",
       "Not popular         16165087\n",
       "Regularly bought    14700298\n",
       "Most Popular           64768\n",
       "nan                    34411\n",
       "Name: count, dtype: int64"
      ]
     },
     "execution_count": 15,
     "metadata": {},
     "output_type": "execute_result"
    }
   ],
   "source": [
    "# Take a look at count in each category\n",
    "df_merged['dep_popularity'].value_counts()"
   ]
  },
  {
   "cell_type": "code",
   "execution_count": 16,
   "id": "d6d3f77c",
   "metadata": {},
   "outputs": [
    {
     "data": {
      "image/png": "[encoded data removed]",
      "text/plain": [
       "<Figure size 640x480 with 1 Axes>"
      ]
     },
     "metadata": {},
     "output_type": "display_data"
    }
   ],
   "source": [
    "bar=df_merged[['dep_popularity', 'department_id']].value_counts().plot.bar()"
   ]
  },
  {
   "cell_type": "markdown",
   "id": "0a72a245",
   "metadata": {},
   "source": [
    "##### this bar chart shows the  means (average) of order numbers placed within each department.  I'm not making sense of this chart so I might have done something weird with this flagged column.  I will choose to focus on the mean_orders within the department instead"
   ]
  },
  {
   "cell_type": "code",
   "execution_count": 17,
   "id": "f2f8912d",
   "metadata": {},
   "outputs": [
    {
     "data": {
      "text/plain": [
       "dep_popularity    department     \n",
       "Regularly bought  produce            9079273\n",
       "                  dairy eggs         5177182\n",
       "Not popular       snacks             2766406\n",
       "                  beverages          2571901\n",
       "                  frozen             2121731\n",
       "                  pantry             1782705\n",
       "                  bakery             1120828\n",
       "                  canned goods       1012074\n",
       "                  deli               1003834\n",
       "                  dry goods pasta     822136\n",
       "                  household           699857\n",
       "                  meat seafood        674781\n",
       "                  breakfast           670850\n",
       "                  personal care       424306\n",
       "Regularly bought  babies              410392\n",
       "Not popular       international       255991\n",
       "                  alcohol             144627\n",
       "                  pets                 93060\n",
       "Most Popular      missing              64768\n",
       "nan               other                34411\n",
       "Regularly bought  bulk                 33451\n",
       "Name: count, dtype: int64"
      ]
     },
     "execution_count": 17,
     "metadata": {},
     "output_type": "execute_result"
    }
   ],
   "source": [
    "df_merged[['dep_popularity', 'department']].value_counts()"
   ]
  },
  {
   "cell_type": "code",
   "execution_count": 18,
   "id": "d851c4ff",
   "metadata": {},
   "outputs": [
    {
     "data": {
      "text/plain": [
       "mean_orders  department     \n",
       "18.495730    produce            9079273\n",
       "18.324695    dairy eggs         5177182\n",
       "17.830354    snacks             2766406\n",
       "17.901479    beverages          2571901\n",
       "16.160739    frozen             2121731\n",
       "17.328319    pantry             1782705\n",
       "17.856619    bakery             1120828\n",
       "16.933858    canned goods       1012074\n",
       "17.144802    deli               1003834\n",
       "16.633019    dry goods pasta     822136\n",
       "16.438914    household           699857\n",
       "16.576910    meat seafood        674781\n",
       "17.469987    breakfast           670850\n",
       "16.933392    personal care       424306\n",
       "19.867090    babies              410392\n",
       "17.174694    international       255991\n",
       "16.034226    alcohol             144627\n",
       "15.995927    pets                 93060\n",
       "24.281327    missing              64768\n",
       "18.096481    other                34411\n",
       "20.797555    bulk                 33451\n",
       "Name: count, dtype: int64"
      ]
     },
     "execution_count": 18,
     "metadata": {},
     "output_type": "execute_result"
    }
   ],
   "source": [
    "df_merged[['mean_orders', 'department']].value_counts()"
   ]
  },
  {
   "cell_type": "code",
   "execution_count": 19,
   "id": "45f4dbb9",
   "metadata": {},
   "outputs": [
    {
     "data": {
      "text/plain": [
       "(array([ 0,  1,  2,  3,  4,  5,  6,  7,  8,  9, 10, 11, 12, 13, 14, 15, 16,\n",
       "        17, 18, 19, 20]),\n",
       " [Text(0, 0, '(produce, 4)'),\n",
       "  Text(1, 0, '(dairy eggs, 16)'),\n",
       "  Text(2, 0, '(snacks, 19)'),\n",
       "  Text(3, 0, '(beverages, 7)'),\n",
       "  Text(4, 0, '(frozen, 1)'),\n",
       "  Text(5, 0, '(pantry, 13)'),\n",
       "  Text(6, 0, '(bakery, 3)'),\n",
       "  Text(7, 0, '(canned goods, 15)'),\n",
       "  Text(8, 0, '(deli, 20)'),\n",
       "  Text(9, 0, '(dry goods pasta, 9)'),\n",
       "  Text(10, 0, '(household, 17)'),\n",
       "  Text(11, 0, '(meat seafood, 12)'),\n",
       "  Text(12, 0, '(breakfast, 14)'),\n",
       "  Text(13, 0, '(personal care, 11)'),\n",
       "  Text(14, 0, '(babies, 18)'),\n",
       "  Text(15, 0, '(international, 6)'),\n",
       "  Text(16, 0, '(alcohol, 5)'),\n",
       "  Text(17, 0, '(pets, 8)'),\n",
       "  Text(18, 0, '(missing, 21)'),\n",
       "  Text(19, 0, '(other, 2)'),\n",
       "  Text(20, 0, '(bulk, 10)')])"
      ]
     },
     "execution_count": 19,
     "metadata": {},
     "output_type": "execute_result"
    },
    {
     "data": {
      "image/png": "[encoded data removed]",
      "text/plain": [
       "<Figure size 640x480 with 1 Axes>"
      ]
     },
     "metadata": {},
     "output_type": "display_data"
    }
   ],
   "source": [
    "bar2=df_merged[['department', 'department_id']].value_counts().plot.bar()\n",
    "\n",
    "#add title and labels\n",
    "plt.xlabel(\"departments\")\n",
    "plt.ylabel(\"average order number\")\n",
    "plt.title(\"Average Order Numbers per Department\")\n",
    "\n",
    "# `ha` is just shorthand for horizontal alignment\n",
    "plt.xticks(rotation=30, ha='right', fontsize=5)\n"
   ]
  },
  {
   "cell_type": "markdown",
   "id": "bec00ff5",
   "metadata": {},
   "source": [
    "##### Good, this shows the information I want in a clear format, demonstrating the mean_orders for each department!  Produce, dairy, snacks, beverages, frozen, and pantry departments ranking as the most popular departments.  The least popular departments are international, alcohol, and pets.\n",
    "\n",
    "### Export this bar chart as 'bar_departments.png'"
   ]
  },
  {
   "cell_type": "code",
   "execution_count": 20,
   "id": "460e0bb6",
   "metadata": {},
   "outputs": [],
   "source": [
    "bar2.figure.savefig(os.path.join(path,'04 Analysis', 'Visualizations', 'bar_departments.png'))"
   ]
  },
  {
   "cell_type": "markdown",
   "id": "c5c99629",
   "metadata": {},
   "source": [
    "## Let's look at product and their prices"
   ]
  },
  {
   "cell_type": "code",
   "execution_count": 5,
   "id": "02badf90",
   "metadata": {},
   "outputs": [
    {
     "data": {
      "text/plain": [
       "Index(['order_id', 'user_id', 'order_number', 'orders_day_of_week',\n",
       "       'order_time', 'days_since_prior_order', 'first_order', 'product_id',\n",
       "       'add_to_cart_order', 'reordered', 'product_name', 'aisle_id',\n",
       "       'department_id', 'prices', 'price_range_loc', 'busiest_day',\n",
       "       'busiest_days', 'busiest_period_of_day', 'max_order', 'loyalty_flag',\n",
       "       'mean_product_price', 'spending_flag', 'customer_frequency',\n",
       "       'frequency_flag', 'gender', 'state', 'age', 'date_joined', 'dependants',\n",
       "       'marital_status', 'income', 'region', 'low_activity', 'department',\n",
       "       'age_flag', 'living_flag', 'shop_time_flag', 'mean_orders',\n",
       "       'dep_popularity'],\n",
       "      dtype='object')"
      ]
     },
     "execution_count": 5,
     "metadata": {},
     "output_type": "execute_result"
    }
   ],
   "source": [
    "df_merged.columns"
   ]
  },
  {
   "cell_type": "code",
   "execution_count": 6,
   "id": "3e82acaf",
   "metadata": {},
   "outputs": [
    {
     "data": {
      "text/plain": [
       "25.0"
      ]
     },
     "execution_count": 6,
     "metadata": {},
     "output_type": "execute_result"
    }
   ],
   "source": [
    "#check the max price for products\n",
    "df_merged['prices'].max()"
   ]
  },
  {
   "cell_type": "code",
   "execution_count": 23,
   "id": "4edd68a1",
   "metadata": {},
   "outputs": [
    {
     "data": {
      "text/plain": [
       "Text(0.5, 1.0, 'Product Prices')"
      ]
     },
     "execution_count": 23,
     "metadata": {},
     "output_type": "execute_result"
    },
    {
     "data": {
      "image/png": "[encoded data removed]",
      "text/plain": [
       "<Figure size 640x480 with 1 Axes>"
      ]
     },
     "metadata": {},
     "output_type": "display_data"
    }
   ],
   "source": [
    "hist_3=df_merged['prices'].plot.hist(bins=70)\n",
    "\n",
    "#add title and labels\n",
    "plt.xlabel(\"prices\")\n",
    "plt.ylabel(\"frequency\")\n",
    "plt.title(\"Product Prices\")\n",
    "\n"
   ]
  },
  {
   "cell_type": "markdown",
   "id": "698553dd",
   "metadata": {},
   "source": [
    "##### This histogram was recreated from lesson 4.9 so that a title and labels could be added to better understand the chart\n",
    "### Export this as hist_product_prices"
   ]
  },
  {
   "cell_type": "code",
   "execution_count": 24,
   "id": "09f8a02e",
   "metadata": {},
   "outputs": [],
   "source": [
    "hist_3.figure.savefig(os.path.join(path,'04 Analysis', 'Visualizations', 'hist_product_prices.png'))"
   ]
  },
  {
   "cell_type": "markdown",
   "id": "46dd933a",
   "metadata": {},
   "source": [
    "## Let's look at product popularity to answer the question regarding \"what types of products are more popular than others\" \n",
    "### to do this, look at the top departments: within those, look at the 'max_order' columns witin the 'product_name' column "
   ]
  },
  {
   "cell_type": "code",
   "execution_count": 7,
   "id": "8100cb09",
   "metadata": {},
   "outputs": [
    {
     "data": {
      "text/plain": [
       "product_name    with a Splash of Pineapple Coconut Water\n",
       "order_number                                          99\n",
       "dtype: object"
      ]
     },
     "execution_count": 7,
     "metadata": {},
     "output_type": "execute_result"
    }
   ],
   "source": [
    "df_merged[['product_name', 'order_number']].max()"
   ]
  },
  {
   "cell_type": "markdown",
   "id": "c4ccdf2b",
   "metadata": {},
   "source": [
    "so 'With a Splash of Pineapple Coconut Water' is the most popular product"
   ]
  },
  {
   "cell_type": "markdown",
   "id": "f11e3ffa",
   "metadata": {},
   "source": [
    "### Let's look at each department and find the top product within that department"
   ]
  },
  {
   "cell_type": "code",
   "execution_count": 93,
   "id": "6ff5b722",
   "metadata": {},
   "outputs": [],
   "source": [
    "#let's look at produce within department column to see top products purchased\n",
    "df_produce=df_merged[df_merged['department']=='produce']"
   ]
  },
  {
   "cell_type": "code",
   "execution_count": 95,
   "id": "84dcea17",
   "metadata": {},
   "outputs": [
    {
     "data": {
      "text/html": [
       "<div>\n",
       "<style scoped>\n",
       "    .dataframe tbody tr th:only-of-type {\n",
       "        vertical-align: middle;\n",
       "    }\n",
       "\n",
       "    .dataframe tbody tr th {\n",
       "        vertical-align: top;\n",
       "    }\n",
       "\n",
       "    .dataframe thead th {\n",
       "        text-align: right;\n",
       "    }\n",
       "</style>\n",
       "<table border=\"1\" class=\"dataframe\">\n",
       "  <thead>\n",
       "    <tr style=\"text-align: right;\">\n",
       "      <th></th>\n",
       "      <th>order_number</th>\n",
       "      <th>orders_day_of_week</th>\n",
       "      <th>order_time</th>\n",
       "      <th>days_since_prior_order</th>\n",
       "      <th>add_to_cart_order</th>\n",
       "      <th>reordered</th>\n",
       "      <th>aisle_id</th>\n",
       "      <th>prices</th>\n",
       "      <th>max_order</th>\n",
       "      <th>mean_product_price</th>\n",
       "      <th>customer_frequency</th>\n",
       "      <th>age</th>\n",
       "      <th>dependants</th>\n",
       "      <th>income</th>\n",
       "      <th>mean_orders</th>\n",
       "    </tr>\n",
       "  </thead>\n",
       "  <tbody>\n",
       "    <tr>\n",
       "      <th>count</th>\n",
       "      <td>9.079273e+06</td>\n",
       "      <td>9.079273e+06</td>\n",
       "      <td>9.079273e+06</td>\n",
       "      <td>8.608701e+06</td>\n",
       "      <td>9.079273e+06</td>\n",
       "      <td>9.079273e+06</td>\n",
       "      <td>9.079273e+06</td>\n",
       "      <td>9.079273e+06</td>\n",
       "      <td>9.079273e+06</td>\n",
       "      <td>9.079273e+06</td>\n",
       "      <td>9.079273e+06</td>\n",
       "      <td>9.079273e+06</td>\n",
       "      <td>9.079273e+06</td>\n",
       "      <td>9.079273e+06</td>\n",
       "      <td>9.079273e+06</td>\n",
       "    </tr>\n",
       "    <tr>\n",
       "      <th>mean</th>\n",
       "      <td>1.849573e+01</td>\n",
       "      <td>2.687693e+00</td>\n",
       "      <td>1.341239e+01</td>\n",
       "      <td>1.057412e+01</td>\n",
       "      <td>8.035116e+00</td>\n",
       "      <td>6.666554e-01</td>\n",
       "      <td>6.355122e+01</td>\n",
       "      <td>7.980348e+00</td>\n",
       "      <td>3.536639e+01</td>\n",
       "      <td>1.035381e+01</td>\n",
       "      <td>9.707974e+00</td>\n",
       "      <td>4.947568e+01</td>\n",
       "      <td>1.501984e+00</td>\n",
       "      <td>1.003109e+05</td>\n",
       "      <td>1.849573e+01</td>\n",
       "    </tr>\n",
       "    <tr>\n",
       "      <th>std</th>\n",
       "      <td>1.812225e+01</td>\n",
       "      <td>2.114566e+00</td>\n",
       "      <td>4.292170e+00</td>\n",
       "      <td>8.446608e+00</td>\n",
       "      <td>6.668181e+00</td>\n",
       "      <td>4.714085e-01</td>\n",
       "      <td>3.893020e+01</td>\n",
       "      <td>4.031587e+00</td>\n",
       "      <td>2.526740e+01</td>\n",
       "      <td>5.579598e+01</td>\n",
       "      <td>6.526977e+00</td>\n",
       "      <td>1.848096e+01</td>\n",
       "      <td>1.120347e+00</td>\n",
       "      <td>4.088201e+04</td>\n",
       "      <td>3.723674e-09</td>\n",
       "    </tr>\n",
       "    <tr>\n",
       "      <th>min</th>\n",
       "      <td>1.000000e+00</td>\n",
       "      <td>0.000000e+00</td>\n",
       "      <td>0.000000e+00</td>\n",
       "      <td>0.000000e+00</td>\n",
       "      <td>1.000000e+00</td>\n",
       "      <td>0.000000e+00</td>\n",
       "      <td>1.600000e+01</td>\n",
       "      <td>1.000000e+00</td>\n",
       "      <td>5.000000e+00</td>\n",
       "      <td>1.300000e+00</td>\n",
       "      <td>0.000000e+00</td>\n",
       "      <td>1.800000e+01</td>\n",
       "      <td>0.000000e+00</td>\n",
       "      <td>2.590300e+04</td>\n",
       "      <td>1.849573e+01</td>\n",
       "    </tr>\n",
       "    <tr>\n",
       "      <th>25%</th>\n",
       "      <td>5.000000e+00</td>\n",
       "      <td>1.000000e+00</td>\n",
       "      <td>1.000000e+01</td>\n",
       "      <td>5.000000e+00</td>\n",
       "      <td>3.000000e+00</td>\n",
       "      <td>0.000000e+00</td>\n",
       "      <td>2.400000e+01</td>\n",
       "      <td>4.500000e+00</td>\n",
       "      <td>1.500000e+01</td>\n",
       "      <td>7.456667e+00</td>\n",
       "      <td>6.000000e+00</td>\n",
       "      <td>3.400000e+01</td>\n",
       "      <td>0.000000e+00</td>\n",
       "      <td>6.901100e+04</td>\n",
       "      <td>1.849573e+01</td>\n",
       "    </tr>\n",
       "    <tr>\n",
       "      <th>50%</th>\n",
       "      <td>1.200000e+01</td>\n",
       "      <td>2.000000e+00</td>\n",
       "      <td>1.300000e+01</td>\n",
       "      <td>7.000000e+00</td>\n",
       "      <td>6.000000e+00</td>\n",
       "      <td>1.000000e+00</td>\n",
       "      <td>8.300000e+01</td>\n",
       "      <td>7.900000e+00</td>\n",
       "      <td>2.900000e+01</td>\n",
       "      <td>7.869531e+00</td>\n",
       "      <td>7.000000e+00</td>\n",
       "      <td>4.900000e+01</td>\n",
       "      <td>2.000000e+00</td>\n",
       "      <td>9.746800e+04</td>\n",
       "      <td>1.849573e+01</td>\n",
       "    </tr>\n",
       "    <tr>\n",
       "      <th>75%</th>\n",
       "      <td>2.600000e+01</td>\n",
       "      <td>5.000000e+00</td>\n",
       "      <td>1.600000e+01</td>\n",
       "      <td>1.400000e+01</td>\n",
       "      <td>1.100000e+01</td>\n",
       "      <td>1.000000e+00</td>\n",
       "      <td>8.300000e+01</td>\n",
       "      <td>1.140000e+01</td>\n",
       "      <td>4.900000e+01</td>\n",
       "      <td>8.279400e+00</td>\n",
       "      <td>1.200000e+01</td>\n",
       "      <td>6.500000e+01</td>\n",
       "      <td>3.000000e+00</td>\n",
       "      <td>1.284210e+05</td>\n",
       "      <td>1.849573e+01</td>\n",
       "    </tr>\n",
       "    <tr>\n",
       "      <th>max</th>\n",
       "      <td>9.900000e+01</td>\n",
       "      <td>6.000000e+00</td>\n",
       "      <td>2.300000e+01</td>\n",
       "      <td>3.000000e+01</td>\n",
       "      <td>1.390000e+02</td>\n",
       "      <td>1.000000e+00</td>\n",
       "      <td>1.230000e+02</td>\n",
       "      <td>1.500000e+01</td>\n",
       "      <td>9.900000e+01</td>\n",
       "      <td>1.404251e+04</td>\n",
       "      <td>3.000000e+01</td>\n",
       "      <td>8.100000e+01</td>\n",
       "      <td>3.000000e+00</td>\n",
       "      <td>5.939010e+05</td>\n",
       "      <td>1.849573e+01</td>\n",
       "    </tr>\n",
       "  </tbody>\n",
       "</table>\n",
       "</div>"
      ],
      "text/plain": [
       "       order_number  orders_day_of_week    order_time  days_since_prior_order  \\\n",
       "count  9.079273e+06        9.079273e+06  9.079273e+06            8.608701e+06   \n",
       "mean   1.849573e+01        2.687693e+00  1.341239e+01            1.057412e+01   \n",
       "std    1.812225e+01        2.114566e+00  4.292170e+00            8.446608e+00   \n",
       "min    1.000000e+00        0.000000e+00  0.000000e+00            0.000000e+00   \n",
       "25%    5.000000e+00        1.000000e+00  1.000000e+01            5.000000e+00   \n",
       "50%    1.200000e+01        2.000000e+00  1.300000e+01            7.000000e+00   \n",
       "75%    2.600000e+01        5.000000e+00  1.600000e+01            1.400000e+01   \n",
       "max    9.900000e+01        6.000000e+00  2.300000e+01            3.000000e+01   \n",
       "\n",
       "       add_to_cart_order     reordered      aisle_id        prices  \\\n",
       "count       9.079273e+06  9.079273e+06  9.079273e+06  9.079273e+06   \n",
       "mean        8.035116e+00  6.666554e-01  6.355122e+01  7.980348e+00   \n",
       "std         6.668181e+00  4.714085e-01  3.893020e+01  4.031587e+00   \n",
       "min         1.000000e+00  0.000000e+00  1.600000e+01  1.000000e+00   \n",
       "25%         3.000000e+00  0.000000e+00  2.400000e+01  4.500000e+00   \n",
       "50%         6.000000e+00  1.000000e+00  8.300000e+01  7.900000e+00   \n",
       "75%         1.100000e+01  1.000000e+00  8.300000e+01  1.140000e+01   \n",
       "max         1.390000e+02  1.000000e+00  1.230000e+02  1.500000e+01   \n",
       "\n",
       "          max_order  mean_product_price  customer_frequency           age  \\\n",
       "count  9.079273e+06        9.079273e+06        9.079273e+06  9.079273e+06   \n",
       "mean   3.536639e+01        1.035381e+01        9.707974e+00  4.947568e+01   \n",
       "std    2.526740e+01        5.579598e+01        6.526977e+00  1.848096e+01   \n",
       "min    5.000000e+00        1.300000e+00        0.000000e+00  1.800000e+01   \n",
       "25%    1.500000e+01        7.456667e+00        6.000000e+00  3.400000e+01   \n",
       "50%    2.900000e+01        7.869531e+00        7.000000e+00  4.900000e+01   \n",
       "75%    4.900000e+01        8.279400e+00        1.200000e+01  6.500000e+01   \n",
       "max    9.900000e+01        1.404251e+04        3.000000e+01  8.100000e+01   \n",
       "\n",
       "         dependants        income   mean_orders  \n",
       "count  9.079273e+06  9.079273e+06  9.079273e+06  \n",
       "mean   1.501984e+00  1.003109e+05  1.849573e+01  \n",
       "std    1.120347e+00  4.088201e+04  3.723674e-09  \n",
       "min    0.000000e+00  2.590300e+04  1.849573e+01  \n",
       "25%    0.000000e+00  6.901100e+04  1.849573e+01  \n",
       "50%    2.000000e+00  9.746800e+04  1.849573e+01  \n",
       "75%    3.000000e+00  1.284210e+05  1.849573e+01  \n",
       "max    3.000000e+00  5.939010e+05  1.849573e+01  "
      ]
     },
     "execution_count": 95,
     "metadata": {},
     "output_type": "execute_result"
    }
   ],
   "source": [
    "df_produce.describe()"
   ]
  },
  {
   "cell_type": "code",
   "execution_count": 89,
   "id": "e185cac4",
   "metadata": {},
   "outputs": [],
   "source": [
    "# Sorting by quantity ordered and selecting top 10\n",
    "product_count = df_merged['product_name'].value_counts()\n",
    "top_10_products = product_count.head(10)"
   ]
  },
  {
   "cell_type": "code",
   "execution_count": 92,
   "id": "223c3e71",
   "metadata": {},
   "outputs": [
    {
     "data": {
      "text/plain": [
       "product_name\n",
       "Banana                    453164\n",
       "Bag of Organic Bananas    366403\n",
       "Organic Strawberries      255988\n",
       "Organic Baby Spinach      231772\n",
       "Organic Hass Avocado      206799\n",
       "Organic Avocado           168267\n",
       "Large Lemon               145397\n",
       "Strawberries              136330\n",
       "Limes                     134751\n",
       "Organic Whole Milk        133514\n",
       "Name: count, dtype: int64"
      ]
     },
     "execution_count": 92,
     "metadata": {},
     "output_type": "execute_result"
    }
   ],
   "source": [
    "top_10_products"
   ]
  },
  {
   "cell_type": "code",
   "execution_count": 96,
   "id": "8fb988a6",
   "metadata": {},
   "outputs": [],
   "source": [
    "# Creating a colormap with 10 distinct colors\n",
    "colors = plt.cm.tab10(np.arange(10))"
   ]
  },
  {
   "cell_type": "code",
   "execution_count": 107,
   "id": "4ec0a7c9",
   "metadata": {},
   "outputs": [
    {
     "data": {
      "image/png": "[encoded data removed]",
      "text/plain": [
       "<Figure size 1000x600 with 1 Axes>"
      ]
     },
     "metadata": {},
     "output_type": "display_data"
    },
    {
     "data": {
      "text/plain": [
       "<Figure size 640x480 with 0 Axes>"
      ]
     },
     "metadata": {},
     "output_type": "display_data"
    }
   ],
   "source": [
    "\n",
    "\n",
    "plt.figure(figsize=(10, 6))\n",
    "plt.barh(top_10_products.index, top_10_products.values, color=colors)\n",
    "plt.xlabel('Count of Product Bought')\n",
    "plt.ylabel('')\n",
    "plt.title('Top 10 Products Ordered')\n",
    "plt.gca().invert_yaxis()  # Invert y-axis to display highest count at the top\n",
    "plt.show()\n",
    "# Save Bar Graph\n",
    "plt.savefig(os.path.join(path, '04 Analysis','Visualizations','top_10_products.png'),bbox_inches='tight')\n",
    "plt.show()\n"
   ]
  },
  {
   "cell_type": "markdown",
   "id": "598c45f4",
   "metadata": {},
   "source": [
    "#### this didn't save correctly so I will take a screen shot to add this bar to my final report"
   ]
  },
  {
   "cell_type": "markdown",
   "id": "a0e03c54",
   "metadata": {},
   "source": [
    "### Let's look at age"
   ]
  },
  {
   "cell_type": "code",
   "execution_count": 141,
   "id": "647064fe",
   "metadata": {},
   "outputs": [],
   "source": [
    "# Drop duplicate user_id to consider each user only once\n",
    "unique_users = df_merged.drop_duplicates(subset='user_id')"
   ]
  },
  {
   "cell_type": "code",
   "execution_count": 144,
   "id": "a192c352",
   "metadata": {},
   "outputs": [],
   "source": [
    "age_flag_counts = unique_users['age_flag'].value_counts()"
   ]
  },
  {
   "cell_type": "code",
   "execution_count": 145,
   "id": "5e9f6cc0",
   "metadata": {},
   "outputs": [],
   "source": [
    "custom_colors = ['blue', 'red', 'orange', 'green']"
   ]
  },
  {
   "cell_type": "code",
   "execution_count": 148,
   "id": "3c09173c",
   "metadata": {},
   "outputs": [
    {
     "data": {
      "image/png": "[encoded data removed]",
      "text/plain": [
       "<Figure size 600x600 with 1 Axes>"
      ]
     },
     "metadata": {},
     "output_type": "display_data"
    }
   ],
   "source": [
    "plt.figure(figsize=(6, 6))\n",
    "plt.pie(age_flag_counts, labels=age_flag_counts.index, autopct='%1.1f%%', startangle=140, colors=custom_colors, wedgeprops={'edgecolor': 'black'})\n",
    "plt.title('Distribution of Age', loc='center', pad=20)\n",
    "plt.axis('equal')\n",
    "plt.savefig(os.path.join(path, '04 Analysis','Visualizations','age_distribution_pie_chart.png')) #Saving the chart\n",
    "plt.show()"
   ]
  },
  {
   "cell_type": "markdown",
   "id": "d3ff5982",
   "metadata": {},
   "source": [
    "### Let's look at living situation"
   ]
  },
  {
   "cell_type": "code",
   "execution_count": 150,
   "id": "d35919ad",
   "metadata": {},
   "outputs": [],
   "source": [
    "living_flag_counts = unique_users['living_flag'].value_counts()"
   ]
  },
  {
   "cell_type": "code",
   "execution_count": 154,
   "id": "2ebd5afb",
   "metadata": {},
   "outputs": [
    {
     "data": {
      "image/png": "[encoded data removed]",
      "text/plain": [
       "<Figure size 600x600 with 1 Axes>"
      ]
     },
     "metadata": {},
     "output_type": "display_data"
    }
   ],
   "source": [
    "plt.figure(figsize=(6, 6))\n",
    "plt.pie(living_flag_counts, labels=living_flag_counts.index, autopct='%1.0f%%', startangle=140, colors=['yellow', 'orange'], wedgeprops={'edgecolor': 'black'})\n",
    "plt.title('Distribution of Living Situation',loc='center', pad=20)\n",
    "plt.axis('equal')\n",
    "plt.savefig(os.path.join(path, '04 Analysis','Visualizations','living_distribution_pie.png'),bbox_inches='tight') #Saving the chart\n",
    "plt.show()"
   ]
  },
  {
   "cell_type": "code",
   "execution_count": 157,
   "id": "8f520bc8",
   "metadata": {},
   "outputs": [],
   "source": [
    "crosstab_loyal = pd.crosstab(unique_users['age_flag'],unique_users['loyalty_flag'], dropna = False)"
   ]
  },
  {
   "cell_type": "code",
   "execution_count": 158,
   "id": "6bcebe00",
   "metadata": {},
   "outputs": [
    {
     "data": {
      "text/html": [
       "<div>\n",
       "<style scoped>\n",
       "    .dataframe tbody tr th:only-of-type {\n",
       "        vertical-align: middle;\n",
       "    }\n",
       "\n",
       "    .dataframe tbody tr th {\n",
       "        vertical-align: top;\n",
       "    }\n",
       "\n",
       "    .dataframe thead th {\n",
       "        text-align: right;\n",
       "    }\n",
       "</style>\n",
       "<table border=\"1\" class=\"dataframe\">\n",
       "  <thead>\n",
       "    <tr style=\"text-align: right;\">\n",
       "      <th>loyalty_flag</th>\n",
       "      <th>Loyal Customer</th>\n",
       "      <th>New Customer</th>\n",
       "      <th>Regular Customer</th>\n",
       "    </tr>\n",
       "    <tr>\n",
       "      <th>age_flag</th>\n",
       "      <th></th>\n",
       "      <th></th>\n",
       "      <th></th>\n",
       "    </tr>\n",
       "  </thead>\n",
       "  <tbody>\n",
       "    <tr>\n",
       "      <th>30s &amp; 40s</th>\n",
       "      <td>5331</td>\n",
       "      <td>21544</td>\n",
       "      <td>24106</td>\n",
       "    </tr>\n",
       "    <tr>\n",
       "      <th>Below_30</th>\n",
       "      <td>3135</td>\n",
       "      <td>12852</td>\n",
       "      <td>14389</td>\n",
       "    </tr>\n",
       "    <tr>\n",
       "      <th>Middle Age</th>\n",
       "      <td>4000</td>\n",
       "      <td>16162</td>\n",
       "      <td>17862</td>\n",
       "    </tr>\n",
       "    <tr>\n",
       "      <th>Older Adult</th>\n",
       "      <td>4551</td>\n",
       "      <td>18192</td>\n",
       "      <td>20507</td>\n",
       "    </tr>\n",
       "  </tbody>\n",
       "</table>\n",
       "</div>"
      ],
      "text/plain": [
       "loyalty_flag  Loyal Customer  New Customer  Regular Customer\n",
       "age_flag                                                    \n",
       "30s & 40s               5331         21544             24106\n",
       "Below_30                3135         12852             14389\n",
       "Middle Age              4000         16162             17862\n",
       "Older Adult             4551         18192             20507"
      ]
     },
     "execution_count": 158,
     "metadata": {},
     "output_type": "execute_result"
    }
   ],
   "source": [
    "crosstab_loyal"
   ]
  },
  {
   "cell_type": "code",
   "execution_count": 163,
   "id": "5a1a88ec",
   "metadata": {},
   "outputs": [
    {
     "data": {
      "text/plain": [
       "<Figure size 800x1000 with 0 Axes>"
      ]
     },
     "metadata": {},
     "output_type": "display_data"
    },
    {
     "data": {
      "image/png": "[encoded data removed]",
      "text/plain": [
       "<Figure size 640x480 with 1 Axes>"
      ]
     },
     "metadata": {},
     "output_type": "display_data"
    }
   ],
   "source": [
    "plt.figure(figsize=(8, 10)) \n",
    "crosstab_loyal.plot(kind='bar', stacked=True)\n",
    "plt.title('Loyalty by Age Group')\n",
    "plt.xlabel('')\n",
    "plt.ylabel('Number of Loyal Customers')\n",
    "plt.xticks(rotation=45) \n",
    "plt.grid(axis='y', linestyle='--', alpha=0.7)\n",
    "plt.legend(title='Loyalty',loc='upper left', bbox_to_anchor=(1.05, 1)) \n",
    "plt.tight_layout() \n",
    "plt.savefig(os.path.join(path, '04 Analysis','Visualizations','loyalty_by_age.png'),bbox_inches='tight')\n",
    "plt.show()\n"
   ]
  },
  {
   "cell_type": "markdown",
   "id": "ba71f494",
   "metadata": {},
   "source": [
    "### The 30s/40s age group tends to rank the highest in all aspects of customers according to this bar chart:  They make up 1)the most loyal group to Instacart, 2) the most regular customers, and 3) they make up the majority of new customers."
   ]
  },
  {
   "cell_type": "code",
   "execution_count": 165,
   "id": "0f5252aa",
   "metadata": {},
   "outputs": [],
   "source": [
    "#Analyzing the relationship between types of spenders and age groups\n",
    "crosstab_spender = pd.crosstab(unique_users['age_flag'],unique_users['spending_flag'], dropna = False)"
   ]
  },
  {
   "cell_type": "code",
   "execution_count": 167,
   "id": "cc3d740f",
   "metadata": {},
   "outputs": [
    {
     "data": {
      "text/html": [
       "<div>\n",
       "<style scoped>\n",
       "    .dataframe tbody tr th:only-of-type {\n",
       "        vertical-align: middle;\n",
       "    }\n",
       "\n",
       "    .dataframe tbody tr th {\n",
       "        vertical-align: top;\n",
       "    }\n",
       "\n",
       "    .dataframe thead th {\n",
       "        text-align: right;\n",
       "    }\n",
       "</style>\n",
       "<table border=\"1\" class=\"dataframe\">\n",
       "  <thead>\n",
       "    <tr style=\"text-align: right;\">\n",
       "      <th>spending_flag</th>\n",
       "      <th>High Spender</th>\n",
       "      <th>Low Spender</th>\n",
       "    </tr>\n",
       "    <tr>\n",
       "      <th>age_flag</th>\n",
       "      <th></th>\n",
       "      <th></th>\n",
       "    </tr>\n",
       "  </thead>\n",
       "  <tbody>\n",
       "    <tr>\n",
       "      <th>30s &amp; 40s</th>\n",
       "      <td>1188</td>\n",
       "      <td>49793</td>\n",
       "    </tr>\n",
       "    <tr>\n",
       "      <th>Below_30</th>\n",
       "      <td>666</td>\n",
       "      <td>29710</td>\n",
       "    </tr>\n",
       "    <tr>\n",
       "      <th>Middle Age</th>\n",
       "      <td>892</td>\n",
       "      <td>37132</td>\n",
       "    </tr>\n",
       "    <tr>\n",
       "      <th>Older Adult</th>\n",
       "      <td>955</td>\n",
       "      <td>42295</td>\n",
       "    </tr>\n",
       "  </tbody>\n",
       "</table>\n",
       "</div>"
      ],
      "text/plain": [
       "spending_flag  High Spender  Low Spender\n",
       "age_flag                                \n",
       "30s & 40s              1188        49793\n",
       "Below_30                666        29710\n",
       "Middle Age              892        37132\n",
       "Older Adult             955        42295"
      ]
     },
     "execution_count": 167,
     "metadata": {},
     "output_type": "execute_result"
    }
   ],
   "source": [
    "crosstab_spender"
   ]
  },
  {
   "cell_type": "code",
   "execution_count": 170,
   "id": "3ec07303",
   "metadata": {},
   "outputs": [],
   "source": [
    "#turn into a percentage\n",
    "crosstab_spender_normalized = crosstab_spender.div(crosstab_spender.sum(axis=1), axis=0) * 100"
   ]
  },
  {
   "cell_type": "code",
   "execution_count": 171,
   "id": "96ea580c",
   "metadata": {},
   "outputs": [
    {
     "data": {
      "text/html": [
       "<div>\n",
       "<style scoped>\n",
       "    .dataframe tbody tr th:only-of-type {\n",
       "        vertical-align: middle;\n",
       "    }\n",
       "\n",
       "    .dataframe tbody tr th {\n",
       "        vertical-align: top;\n",
       "    }\n",
       "\n",
       "    .dataframe thead th {\n",
       "        text-align: right;\n",
       "    }\n",
       "</style>\n",
       "<table border=\"1\" class=\"dataframe\">\n",
       "  <thead>\n",
       "    <tr style=\"text-align: right;\">\n",
       "      <th>spending_flag</th>\n",
       "      <th>High Spender</th>\n",
       "      <th>Low Spender</th>\n",
       "    </tr>\n",
       "    <tr>\n",
       "      <th>age_flag</th>\n",
       "      <th></th>\n",
       "      <th></th>\n",
       "    </tr>\n",
       "  </thead>\n",
       "  <tbody>\n",
       "    <tr>\n",
       "      <th>30s &amp; 40s</th>\n",
       "      <td>2.330280</td>\n",
       "      <td>97.669720</td>\n",
       "    </tr>\n",
       "    <tr>\n",
       "      <th>Below_30</th>\n",
       "      <td>2.192520</td>\n",
       "      <td>97.807480</td>\n",
       "    </tr>\n",
       "    <tr>\n",
       "      <th>Middle Age</th>\n",
       "      <td>2.345887</td>\n",
       "      <td>97.654113</td>\n",
       "    </tr>\n",
       "    <tr>\n",
       "      <th>Older Adult</th>\n",
       "      <td>2.208092</td>\n",
       "      <td>97.791908</td>\n",
       "    </tr>\n",
       "  </tbody>\n",
       "</table>\n",
       "</div>"
      ],
      "text/plain": [
       "spending_flag  High Spender  Low Spender\n",
       "age_flag                                \n",
       "30s & 40s          2.330280    97.669720\n",
       "Below_30           2.192520    97.807480\n",
       "Middle Age         2.345887    97.654113\n",
       "Older Adult        2.208092    97.791908"
      ]
     },
     "execution_count": 171,
     "metadata": {},
     "output_type": "execute_result"
    }
   ],
   "source": [
    "crosstab_spender_normalized"
   ]
  },
  {
   "cell_type": "code",
   "execution_count": 172,
   "id": "abefd3d5",
   "metadata": {},
   "outputs": [
    {
     "data": {
      "text/plain": [
       "<Figure size 800x1000 with 0 Axes>"
      ]
     },
     "metadata": {},
     "output_type": "display_data"
    },
    {
     "data": {
      "image/png": "[encoded data removed]",
      "text/plain": [
       "<Figure size 640x480 with 1 Axes>"
      ]
     },
     "metadata": {},
     "output_type": "display_data"
    }
   ],
   "source": [
    "#Visualization\n",
    "plt.figure(figsize=(8, 10)) \n",
    "crosstab_spender_normalized.plot(kind='bar', stacked=True, color=['lightgreen', 'lightblue'])\n",
    "plt.title('Type of Spenders by Age Groups (Percentage)')\n",
    "plt.xlabel('')\n",
    "plt.ylabel('Percentage')\n",
    "plt.xticks(rotation=45) \n",
    "plt.grid(axis='y', linestyle='--', alpha=0.7)\n",
    "plt.legend(title='',loc='upper left', bbox_to_anchor=(1.05, 1)) \n",
    "plt.tight_layout() \n",
    "plt.savefig(os.path.join(path, '04 Analysis','Visualizations','spenders_by_age.png'),bbox_inches='tight')\n",
    "plt.show()"
   ]
  },
  {
   "cell_type": "markdown",
   "id": "cd63c939",
   "metadata": {},
   "source": [
    "#### they all seem to be the same 'type' of spender across all age groups (small portion of high spenders and majority of low) -there is no trend for age in amount spent \n"
   ]
  },
  {
   "cell_type": "markdown",
   "id": "74a5201b",
   "metadata": {},
   "source": [
    "### let's look at the 'shop_time_flag' I created to see their shopping habits"
   ]
  },
  {
   "cell_type": "code",
   "execution_count": 175,
   "id": "feb189d7",
   "metadata": {},
   "outputs": [
    {
     "data": {
      "text/plain": [
       "shop_time_flag\n",
       "Regular       24908263\n",
       "Night Owl      3168547\n",
       "Early Bird     2887754\n",
       "Name: count, dtype: int64"
      ]
     },
     "execution_count": 175,
     "metadata": {},
     "output_type": "execute_result"
    }
   ],
   "source": [
    "# Check the flag values\n",
    "df_merged['shop_time_flag'].value_counts(dropna = False)"
   ]
  },
  {
   "cell_type": "code",
   "execution_count": 186,
   "id": "575067c9",
   "metadata": {},
   "outputs": [
    {
     "data": {
      "image/png": "[encoded data removed]",
      "text/plain": [
       "<Figure size 640x480 with 1 Axes>"
      ]
     },
     "metadata": {},
     "output_type": "display_data"
    }
   ],
   "source": [
    "# Create bar graph for shopping behavior'#b03671', '#d576a4','#e8b5ce'\n",
    "shop_time_bar = df_merged['shop_time_flag'].value_counts().plot.bar(color =['purple', 'turquoise','pink'])\n",
    "#export bar chart\n",
    "plt.savefig(os.path.join(path, '04 Analysis','Visualizations','shop_time_bar.png'),bbox_inches='tight')\n",
    "plt.show()"
   ]
  },
  {
   "cell_type": "code",
   "execution_count": 181,
   "id": "17163a15",
   "metadata": {},
   "outputs": [],
   "source": [
    "# Create pie chart for shop times\n",
    "# Create table of shopping behavior counts\n",
    "shop_counts = df_merged['shop_time_flag'].value_counts()"
   ]
  },
  {
   "cell_type": "code",
   "execution_count": 189,
   "id": "8d015b6e",
   "metadata": {},
   "outputs": [
    {
     "data": {
      "image/png": "[encoded data removed]",
      "text/plain": [
       "<Figure size 640x480 with 1 Axes>"
      ]
     },
     "metadata": {},
     "output_type": "display_data"
    }
   ],
   "source": [
    "# Create pie chart with labels and color\n",
    "shop_time_pie = plt.pie(shop_counts,labels = shop_counts.index, autopct='%1.1f%%', colors=['purple', 'turquoise','pink'])\n",
    "# Add title\n",
    "plt.title('Shopping Times')\n",
    "# Save Pie Chart\n",
    "#export pie\n",
    "plt.savefig(os.path.join(path, '04 Analysis','Visualizations','shop_time_pie.png'),bbox_inches='tight')\n",
    "plt.show()"
   ]
  },
  {
   "cell_type": "code",
   "execution_count": 204,
   "id": "b404bcab",
   "metadata": {},
   "outputs": [],
   "source": [
    "# Create a crosstable with shopping behavior and department id\n",
    "shop_time_dep_cross = pd.crosstab(df_merged['department'],df_merged['shop_time_flag'], dropna = False)"
   ]
  },
  {
   "cell_type": "code",
   "execution_count": 205,
   "id": "d2cc67ec",
   "metadata": {},
   "outputs": [
    {
     "data": {
      "text/html": [
       "<div>\n",
       "<style scoped>\n",
       "    .dataframe tbody tr th:only-of-type {\n",
       "        vertical-align: middle;\n",
       "    }\n",
       "\n",
       "    .dataframe tbody tr th {\n",
       "        vertical-align: top;\n",
       "    }\n",
       "\n",
       "    .dataframe thead th {\n",
       "        text-align: right;\n",
       "    }\n",
       "</style>\n",
       "<table border=\"1\" class=\"dataframe\">\n",
       "  <thead>\n",
       "    <tr style=\"text-align: right;\">\n",
       "      <th>shop_time_flag</th>\n",
       "      <th>Early Bird</th>\n",
       "      <th>Night Owl</th>\n",
       "      <th>Regular</th>\n",
       "    </tr>\n",
       "    <tr>\n",
       "      <th>department</th>\n",
       "      <th></th>\n",
       "      <th></th>\n",
       "      <th></th>\n",
       "    </tr>\n",
       "  </thead>\n",
       "  <tbody>\n",
       "    <tr>\n",
       "      <th>alcohol</th>\n",
       "      <td>7972</td>\n",
       "      <td>8464</td>\n",
       "      <td>128191</td>\n",
       "    </tr>\n",
       "    <tr>\n",
       "      <th>babies</th>\n",
       "      <td>50188</td>\n",
       "      <td>50244</td>\n",
       "      <td>309960</td>\n",
       "    </tr>\n",
       "    <tr>\n",
       "      <th>bakery</th>\n",
       "      <td>107807</td>\n",
       "      <td>108043</td>\n",
       "      <td>904978</td>\n",
       "    </tr>\n",
       "    <tr>\n",
       "      <th>beverages</th>\n",
       "      <td>231045</td>\n",
       "      <td>236691</td>\n",
       "      <td>2104165</td>\n",
       "    </tr>\n",
       "    <tr>\n",
       "      <th>breakfast</th>\n",
       "      <td>68714</td>\n",
       "      <td>67979</td>\n",
       "      <td>534157</td>\n",
       "    </tr>\n",
       "    <tr>\n",
       "      <th>bulk</th>\n",
       "      <td>3057</td>\n",
       "      <td>3738</td>\n",
       "      <td>26656</td>\n",
       "    </tr>\n",
       "    <tr>\n",
       "      <th>canned goods</th>\n",
       "      <td>88259</td>\n",
       "      <td>103969</td>\n",
       "      <td>819846</td>\n",
       "    </tr>\n",
       "    <tr>\n",
       "      <th>dairy eggs</th>\n",
       "      <td>515309</td>\n",
       "      <td>526094</td>\n",
       "      <td>4135779</td>\n",
       "    </tr>\n",
       "    <tr>\n",
       "      <th>deli</th>\n",
       "      <td>88984</td>\n",
       "      <td>99231</td>\n",
       "      <td>815619</td>\n",
       "    </tr>\n",
       "    <tr>\n",
       "      <th>dry goods pasta</th>\n",
       "      <td>73052</td>\n",
       "      <td>85395</td>\n",
       "      <td>663689</td>\n",
       "    </tr>\n",
       "    <tr>\n",
       "      <th>frozen</th>\n",
       "      <td>180465</td>\n",
       "      <td>225974</td>\n",
       "      <td>1715292</td>\n",
       "    </tr>\n",
       "    <tr>\n",
       "      <th>household</th>\n",
       "      <td>66639</td>\n",
       "      <td>70496</td>\n",
       "      <td>562722</td>\n",
       "    </tr>\n",
       "    <tr>\n",
       "      <th>international</th>\n",
       "      <td>21155</td>\n",
       "      <td>26533</td>\n",
       "      <td>208303</td>\n",
       "    </tr>\n",
       "    <tr>\n",
       "      <th>meat seafood</th>\n",
       "      <td>62217</td>\n",
       "      <td>67818</td>\n",
       "      <td>544746</td>\n",
       "    </tr>\n",
       "    <tr>\n",
       "      <th>missing</th>\n",
       "      <td>5804</td>\n",
       "      <td>7001</td>\n",
       "      <td>51963</td>\n",
       "    </tr>\n",
       "    <tr>\n",
       "      <th>other</th>\n",
       "      <td>3017</td>\n",
       "      <td>3493</td>\n",
       "      <td>27901</td>\n",
       "    </tr>\n",
       "    <tr>\n",
       "      <th>pantry</th>\n",
       "      <td>156670</td>\n",
       "      <td>187407</td>\n",
       "      <td>1438628</td>\n",
       "    </tr>\n",
       "    <tr>\n",
       "      <th>personal care</th>\n",
       "      <td>39030</td>\n",
       "      <td>44749</td>\n",
       "      <td>340527</td>\n",
       "    </tr>\n",
       "    <tr>\n",
       "      <th>pets</th>\n",
       "      <td>7937</td>\n",
       "      <td>8910</td>\n",
       "      <td>76213</td>\n",
       "    </tr>\n",
       "    <tr>\n",
       "      <th>produce</th>\n",
       "      <td>865693</td>\n",
       "      <td>975300</td>\n",
       "      <td>7238280</td>\n",
       "    </tr>\n",
       "    <tr>\n",
       "      <th>snacks</th>\n",
       "      <td>244740</td>\n",
       "      <td>261018</td>\n",
       "      <td>2260648</td>\n",
       "    </tr>\n",
       "  </tbody>\n",
       "</table>\n",
       "</div>"
      ],
      "text/plain": [
       "shop_time_flag   Early Bird  Night Owl  Regular\n",
       "department                                     \n",
       "alcohol                7972       8464   128191\n",
       "babies                50188      50244   309960\n",
       "bakery               107807     108043   904978\n",
       "beverages            231045     236691  2104165\n",
       "breakfast             68714      67979   534157\n",
       "bulk                   3057       3738    26656\n",
       "canned goods          88259     103969   819846\n",
       "dairy eggs           515309     526094  4135779\n",
       "deli                  88984      99231   815619\n",
       "dry goods pasta       73052      85395   663689\n",
       "frozen               180465     225974  1715292\n",
       "household             66639      70496   562722\n",
       "international         21155      26533   208303\n",
       "meat seafood          62217      67818   544746\n",
       "missing                5804       7001    51963\n",
       "other                  3017       3493    27901\n",
       "pantry               156670     187407  1438628\n",
       "personal care         39030      44749   340527\n",
       "pets                   7937       8910    76213\n",
       "produce              865693     975300  7238280\n",
       "snacks               244740     261018  2260648"
      ]
     },
     "execution_count": 205,
     "metadata": {},
     "output_type": "execute_result"
    }
   ],
   "source": [
    "shop_time_dep_cross "
   ]
  },
  {
   "cell_type": "code",
   "execution_count": 211,
   "id": "87c344d6",
   "metadata": {},
   "outputs": [
    {
     "data": {
      "image/png": "[encoded data removed]",
      "text/plain": [
       "<Figure size 640x480 with 1 Axes>"
      ]
     },
     "metadata": {},
     "output_type": "display_data"
    }
   ],
   "source": [
    "# Create stacked line chart for number of orders per department per shopping times with color\n",
    "shoptime_dep_line = shop_time_dep_cross.plot(kind = 'line', stacked = True, color = ['purple', 'turquoise','pink'])\n",
    "# Adjust plot size\n",
    "plt.subplots_adjust(bottom = 0.2)\n",
    "# Add axis and title labels\n",
    "plt.title('Shop Times Relationship to Department')\n",
    "\n",
    "plt.xlabel('Department')\n",
    "plt.ylabel('Number of Orders')\n",
    "\n",
    "# Add x tick mark labels, position adjusted\n",
    "plt.xticks(rotation = 65, ha = 'right')\n",
    "\n",
    "# Add legend title\n",
    "plt.legend(title = 'Shopping Times')\n",
    "# Save Stacked Line Chart\n",
    "plt.savefig( 'shop_time_dep_bar.png')\n",
    "\n"
   ]
  },
  {
   "cell_type": "markdown",
   "id": "ad200c91",
   "metadata": {},
   "source": [
    "### This shows all shoppers show the same preference patterns as they all buy more snacks, no matter what time of day the order is placed"
   ]
  },
  {
   "cell_type": "code",
   "execution_count": 213,
   "id": "d7ee3399",
   "metadata": {},
   "outputs": [],
   "source": [
    "shoptime_dep_line.figure.savefig(os.path.join(path, '04 Analysis','Visualizations', 'line_shop_time_dep).png'))"
   ]
  },
  {
   "cell_type": "code",
   "execution_count": 256,
   "id": "71d9bc3e",
   "metadata": {},
   "outputs": [
    {
     "data": {
      "text/plain": [
       "<matplotlib.legend.Legend at 0x3445ff090>"
      ]
     },
     "execution_count": 256,
     "metadata": {},
     "output_type": "execute_result"
    },
    {
     "data": {
      "image/png": "[encoded data removed]",
      "text/plain": [
       "<Figure size 640x480 with 1 Axes>"
      ]
     },
     "metadata": {},
     "output_type": "display_data"
    }
   ],
   "source": [
    "# Create stacked line chart for number of orders per department per shopping times with color\n",
    "shoptime_dep_line = shop_time_dep_cross.plot(kind = 'line', stacked = True, color = ['purple', 'turquoise','pink'])\n",
    "# Adjust plot size\n",
    "plt.subplots_adjust(bottom = 0.2)\n",
    "# Add axis and title labels\n",
    "plt.title('Shop Times Relationship to Department')\n",
    "\n",
    "plt.xlabel('Department')\n",
    "plt.ylabel('Department Popularity')\n",
    "\n",
    "# Add x tick mark labels, position adjusted\n",
    "plt.xticks(rotation = 65, ha = 'right')\n",
    "\n",
    "# Add legend title\n",
    "plt.legend(title = 'Shopping Times')\n",
    "\n",
    "\n",
    "\n",
    "\n",
    "\n"
   ]
  },
  {
   "cell_type": "markdown",
   "id": "445af4f5",
   "metadata": {},
   "source": [
    "### I wanted to cross check this with my department popularity flag.  Same insights shown here (as expected)"
   ]
  },
  {
   "cell_type": "markdown",
   "id": "c06855c7",
   "metadata": {},
   "source": [
    "## Export this data frame (contains all new flags and departments merged)"
   ]
  },
  {
   "cell_type": "code",
   "execution_count": 215,
   "id": "2e0df0bd",
   "metadata": {},
   "outputs": [],
   "source": [
    "# Exporting the data\n",
    "df_merged.to_pickle(os.path.join( path, '02 Data', 'Prepared Data', 'instacart_merged_2.pkl'))"
   ]
  },
  {
   "cell_type": "markdown",
   "id": "4616f273",
   "metadata": {},
   "source": [
    "## #7) Aggregate the max, mean, and min variables on a customer-profile level for usage frequency and expenditure"
   ]
  },
  {
   "cell_type": "code",
   "execution_count": 216,
   "id": "5b7a9646",
   "metadata": {},
   "outputs": [],
   "source": [
    "pd.set_option('display.max_columns', None)"
   ]
  },
  {
   "cell_type": "code",
   "execution_count": 217,
   "id": "68095abd",
   "metadata": {},
   "outputs": [
    {
     "name": "stderr",
     "output_type": "stream",
     "text": [
      "/var/folders/fb/2jrdrrb52mv7jbhxt0nbx_740000gn/T/ipykernel_1651/681925994.py:2: FutureWarning: The provided callable <function sum at 0x10d8511c0> is currently using SeriesGroupBy.sum. In a future version of pandas, the provided callable will be used directly. To keep current behavior pass the string \"sum\" instead.\n",
      "  df_merged['total_spent'] = df_merged.groupby('user_id')['prices'].transform(np.sum)\n"
     ]
    }
   ],
   "source": [
    "# Calculate the total amount spent by each customer and assign it to a new column 'total_spent'\n",
    "df_merged['total_spent'] = df_merged.groupby('user_id')['prices'].transform(np.sum)"
   ]
  },
  {
   "cell_type": "code",
   "execution_count": 218,
   "id": "d54f8ae5",
   "metadata": {},
   "outputs": [
    {
     "data": {
      "text/plain": [
       "count    3.096456e+07\n",
       "mean     3.418331e+03\n",
       "std      2.927679e+03\n",
       "min      5.000000e+00\n",
       "25%      1.243800e+03\n",
       "50%      2.536300e+03\n",
       "75%      4.776800e+03\n",
       "max      2.639490e+04\n",
       "Name: total_spent, dtype: float64"
      ]
     },
     "execution_count": 218,
     "metadata": {},
     "output_type": "execute_result"
    }
   ],
   "source": [
    "df_merged['total_spent'].describe()"
   ]
  },
  {
   "cell_type": "code",
   "execution_count": 219,
   "id": "4bc41420",
   "metadata": {},
   "outputs": [
    {
     "data": {
      "text/html": [
       "<div>\n",
       "<style scoped>\n",
       "    .dataframe tbody tr th:only-of-type {\n",
       "        vertical-align: middle;\n",
       "    }\n",
       "\n",
       "    .dataframe tbody tr th {\n",
       "        vertical-align: top;\n",
       "    }\n",
       "\n",
       "    .dataframe thead tr th {\n",
       "        text-align: left;\n",
       "    }\n",
       "\n",
       "    .dataframe thead tr:last-of-type th {\n",
       "        text-align: right;\n",
       "    }\n",
       "</style>\n",
       "<table border=\"1\" class=\"dataframe\">\n",
       "  <thead>\n",
       "    <tr>\n",
       "      <th></th>\n",
       "      <th colspan=\"3\" halign=\"left\">total_spent</th>\n",
       "      <th colspan=\"3\" halign=\"left\">max_order</th>\n",
       "    </tr>\n",
       "    <tr>\n",
       "      <th></th>\n",
       "      <th>mean</th>\n",
       "      <th>min</th>\n",
       "      <th>max</th>\n",
       "      <th>mean</th>\n",
       "      <th>min</th>\n",
       "      <th>max</th>\n",
       "    </tr>\n",
       "    <tr>\n",
       "      <th>age_flag</th>\n",
       "      <th></th>\n",
       "      <th></th>\n",
       "      <th></th>\n",
       "      <th></th>\n",
       "      <th></th>\n",
       "      <th></th>\n",
       "    </tr>\n",
       "  </thead>\n",
       "  <tbody>\n",
       "    <tr>\n",
       "      <th>30s &amp; 40s</th>\n",
       "      <td>3449.00</td>\n",
       "      <td>7.0</td>\n",
       "      <td>22696.9</td>\n",
       "      <td>34.54</td>\n",
       "      <td>5</td>\n",
       "      <td>99</td>\n",
       "    </tr>\n",
       "    <tr>\n",
       "      <th>Below_30</th>\n",
       "      <td>3406.19</td>\n",
       "      <td>10.5</td>\n",
       "      <td>18883.2</td>\n",
       "      <td>34.38</td>\n",
       "      <td>5</td>\n",
       "      <td>99</td>\n",
       "    </tr>\n",
       "    <tr>\n",
       "      <th>Middle Age</th>\n",
       "      <td>3418.44</td>\n",
       "      <td>5.0</td>\n",
       "      <td>24307.1</td>\n",
       "      <td>34.43</td>\n",
       "      <td>5</td>\n",
       "      <td>99</td>\n",
       "    </tr>\n",
       "    <tr>\n",
       "      <th>Older Adult</th>\n",
       "      <td>3390.44</td>\n",
       "      <td>6.8</td>\n",
       "      <td>26394.9</td>\n",
       "      <td>34.33</td>\n",
       "      <td>5</td>\n",
       "      <td>99</td>\n",
       "    </tr>\n",
       "  </tbody>\n",
       "</table>\n",
       "</div>"
      ],
      "text/plain": [
       "            total_spent                max_order        \n",
       "                   mean   min      max      mean min max\n",
       "age_flag                                                \n",
       "30s & 40s       3449.00   7.0  22696.9     34.54   5  99\n",
       "Below_30        3406.19  10.5  18883.2     34.38   5  99\n",
       "Middle Age      3418.44   5.0  24307.1     34.43   5  99\n",
       "Older Adult     3390.44   6.8  26394.9     34.33   5  99"
      ]
     },
     "execution_count": 219,
     "metadata": {},
     "output_type": "execute_result"
    }
   ],
   "source": [
    "df_merged.groupby('age_flag').agg({'total_spent': ['mean', 'min', 'max'], 'max_order': ['mean', 'min', 'max']}).round(2)"
   ]
  },
  {
   "cell_type": "code",
   "execution_count": 221,
   "id": "ab61dd7c",
   "metadata": {},
   "outputs": [
    {
     "data": {
      "text/html": [
       "<div>\n",
       "<style scoped>\n",
       "    .dataframe tbody tr th:only-of-type {\n",
       "        vertical-align: middle;\n",
       "    }\n",
       "\n",
       "    .dataframe tbody tr th {\n",
       "        vertical-align: top;\n",
       "    }\n",
       "\n",
       "    .dataframe thead tr th {\n",
       "        text-align: left;\n",
       "    }\n",
       "\n",
       "    .dataframe thead tr:last-of-type th {\n",
       "        text-align: right;\n",
       "    }\n",
       "</style>\n",
       "<table border=\"1\" class=\"dataframe\">\n",
       "  <thead>\n",
       "    <tr>\n",
       "      <th></th>\n",
       "      <th colspan=\"3\" halign=\"left\">total_spent</th>\n",
       "      <th colspan=\"3\" halign=\"left\">max_order</th>\n",
       "    </tr>\n",
       "    <tr>\n",
       "      <th></th>\n",
       "      <th>mean</th>\n",
       "      <th>min</th>\n",
       "      <th>max</th>\n",
       "      <th>mean</th>\n",
       "      <th>min</th>\n",
       "      <th>max</th>\n",
       "    </tr>\n",
       "    <tr>\n",
       "      <th>living_flag</th>\n",
       "      <th></th>\n",
       "      <th></th>\n",
       "      <th></th>\n",
       "      <th></th>\n",
       "      <th></th>\n",
       "      <th></th>\n",
       "    </tr>\n",
       "  </thead>\n",
       "  <tbody>\n",
       "    <tr>\n",
       "      <th>Alone</th>\n",
       "      <td>3428.07</td>\n",
       "      <td>5.0</td>\n",
       "      <td>24307.1</td>\n",
       "      <td>34.68</td>\n",
       "      <td>5</td>\n",
       "      <td>99</td>\n",
       "    </tr>\n",
       "    <tr>\n",
       "      <th>With Family</th>\n",
       "      <td>3415.08</td>\n",
       "      <td>6.8</td>\n",
       "      <td>26394.9</td>\n",
       "      <td>34.34</td>\n",
       "      <td>5</td>\n",
       "      <td>99</td>\n",
       "    </tr>\n",
       "  </tbody>\n",
       "</table>\n",
       "</div>"
      ],
      "text/plain": [
       "            total_spent               max_order        \n",
       "                   mean  min      max      mean min max\n",
       "living_flag                                            \n",
       "Alone           3428.07  5.0  24307.1     34.68   5  99\n",
       "With Family     3415.08  6.8  26394.9     34.34   5  99"
      ]
     },
     "execution_count": 221,
     "metadata": {},
     "output_type": "execute_result"
    }
   ],
   "source": [
    "df_merged.groupby('living_flag').agg({'total_spent': ['mean', 'min', 'max'], 'max_order': ['mean', 'min', 'max']}).round(2)"
   ]
  },
  {
   "cell_type": "code",
   "execution_count": 222,
   "id": "9812006a",
   "metadata": {},
   "outputs": [
    {
     "data": {
      "text/html": [
       "<div>\n",
       "<style scoped>\n",
       "    .dataframe tbody tr th:only-of-type {\n",
       "        vertical-align: middle;\n",
       "    }\n",
       "\n",
       "    .dataframe tbody tr th {\n",
       "        vertical-align: top;\n",
       "    }\n",
       "\n",
       "    .dataframe thead tr th {\n",
       "        text-align: left;\n",
       "    }\n",
       "\n",
       "    .dataframe thead tr:last-of-type th {\n",
       "        text-align: right;\n",
       "    }\n",
       "</style>\n",
       "<table border=\"1\" class=\"dataframe\">\n",
       "  <thead>\n",
       "    <tr>\n",
       "      <th></th>\n",
       "      <th colspan=\"3\" halign=\"left\">total_spent</th>\n",
       "      <th colspan=\"3\" halign=\"left\">max_order</th>\n",
       "    </tr>\n",
       "    <tr>\n",
       "      <th></th>\n",
       "      <th>mean</th>\n",
       "      <th>min</th>\n",
       "      <th>max</th>\n",
       "      <th>mean</th>\n",
       "      <th>min</th>\n",
       "      <th>max</th>\n",
       "    </tr>\n",
       "    <tr>\n",
       "      <th>loyalty_flag</th>\n",
       "      <th></th>\n",
       "      <th></th>\n",
       "      <th></th>\n",
       "      <th></th>\n",
       "      <th></th>\n",
       "      <th></th>\n",
       "    </tr>\n",
       "  </thead>\n",
       "  <tbody>\n",
       "    <tr>\n",
       "      <th>Loyal Customer</th>\n",
       "      <td>6153.84</td>\n",
       "      <td>156.0</td>\n",
       "      <td>26394.9</td>\n",
       "      <td>63.98</td>\n",
       "      <td>41</td>\n",
       "      <td>99</td>\n",
       "    </tr>\n",
       "    <tr>\n",
       "      <th>New Customer</th>\n",
       "      <td>785.45</td>\n",
       "      <td>5.0</td>\n",
       "      <td>3920.4</td>\n",
       "      <td>7.49</td>\n",
       "      <td>5</td>\n",
       "      <td>10</td>\n",
       "    </tr>\n",
       "    <tr>\n",
       "      <th>Regular Customer</th>\n",
       "      <td>2443.03</td>\n",
       "      <td>15.7</td>\n",
       "      <td>12186.6</td>\n",
       "      <td>23.43</td>\n",
       "      <td>11</td>\n",
       "      <td>40</td>\n",
       "    </tr>\n",
       "  </tbody>\n",
       "</table>\n",
       "</div>"
      ],
      "text/plain": [
       "                 total_spent                 max_order        \n",
       "                        mean    min      max      mean min max\n",
       "loyalty_flag                                                  \n",
       "Loyal Customer       6153.84  156.0  26394.9     63.98  41  99\n",
       "New Customer          785.45    5.0   3920.4      7.49   5  10\n",
       "Regular Customer     2443.03   15.7  12186.6     23.43  11  40"
      ]
     },
     "execution_count": 222,
     "metadata": {},
     "output_type": "execute_result"
    }
   ],
   "source": [
    "df_merged.groupby('loyalty_flag').agg({'total_spent': ['mean', 'min', 'max'], 'max_order': ['mean', 'min', 'max']}).round(2)"
   ]
  },
  {
   "cell_type": "code",
   "execution_count": 223,
   "id": "10bbe023",
   "metadata": {},
   "outputs": [
    {
     "data": {
      "text/html": [
       "<div>\n",
       "<style scoped>\n",
       "    .dataframe tbody tr th:only-of-type {\n",
       "        vertical-align: middle;\n",
       "    }\n",
       "\n",
       "    .dataframe tbody tr th {\n",
       "        vertical-align: top;\n",
       "    }\n",
       "\n",
       "    .dataframe thead tr th {\n",
       "        text-align: left;\n",
       "    }\n",
       "\n",
       "    .dataframe thead tr:last-of-type th {\n",
       "        text-align: right;\n",
       "    }\n",
       "</style>\n",
       "<table border=\"1\" class=\"dataframe\">\n",
       "  <thead>\n",
       "    <tr>\n",
       "      <th></th>\n",
       "      <th colspan=\"3\" halign=\"left\">total_spent</th>\n",
       "      <th colspan=\"3\" halign=\"left\">max_order</th>\n",
       "    </tr>\n",
       "    <tr>\n",
       "      <th></th>\n",
       "      <th>mean</th>\n",
       "      <th>min</th>\n",
       "      <th>max</th>\n",
       "      <th>mean</th>\n",
       "      <th>min</th>\n",
       "      <th>max</th>\n",
       "    </tr>\n",
       "    <tr>\n",
       "      <th>frequency_flag</th>\n",
       "      <th></th>\n",
       "      <th></th>\n",
       "      <th></th>\n",
       "      <th></th>\n",
       "      <th></th>\n",
       "      <th></th>\n",
       "    </tr>\n",
       "  </thead>\n",
       "  <tbody>\n",
       "    <tr>\n",
       "      <th>Frequent Customer</th>\n",
       "      <td>4278.22</td>\n",
       "      <td>11.0</td>\n",
       "      <td>26394.9</td>\n",
       "      <td>43.63</td>\n",
       "      <td>5</td>\n",
       "      <td>99</td>\n",
       "    </tr>\n",
       "    <tr>\n",
       "      <th>Non-frequent Customer</th>\n",
       "      <td>977.76</td>\n",
       "      <td>6.8</td>\n",
       "      <td>5672.0</td>\n",
       "      <td>9.18</td>\n",
       "      <td>5</td>\n",
       "      <td>25</td>\n",
       "    </tr>\n",
       "    <tr>\n",
       "      <th>Regular Customer</th>\n",
       "      <td>1791.52</td>\n",
       "      <td>5.0</td>\n",
       "      <td>10682.7</td>\n",
       "      <td>16.63</td>\n",
       "      <td>5</td>\n",
       "      <td>45</td>\n",
       "    </tr>\n",
       "  </tbody>\n",
       "</table>\n",
       "</div>"
      ],
      "text/plain": [
       "                      total_spent                max_order        \n",
       "                             mean   min      max      mean min max\n",
       "frequency_flag                                                    \n",
       "Frequent Customer         4278.22  11.0  26394.9     43.63   5  99\n",
       "Non-frequent Customer      977.76   6.8   5672.0      9.18   5  25\n",
       "Regular Customer          1791.52   5.0  10682.7     16.63   5  45"
      ]
     },
     "execution_count": 223,
     "metadata": {},
     "output_type": "execute_result"
    }
   ],
   "source": [
    "df_merged.groupby('frequency_flag').agg({'total_spent': ['mean', 'min', 'max'], 'max_order': ['mean', 'min', 'max']}).round(2)"
   ]
  },
  {
   "cell_type": "code",
   "execution_count": 224,
   "id": "43876936",
   "metadata": {},
   "outputs": [
    {
     "data": {
      "text/html": [
       "<div>\n",
       "<style scoped>\n",
       "    .dataframe tbody tr th:only-of-type {\n",
       "        vertical-align: middle;\n",
       "    }\n",
       "\n",
       "    .dataframe tbody tr th {\n",
       "        vertical-align: top;\n",
       "    }\n",
       "\n",
       "    .dataframe thead tr th {\n",
       "        text-align: left;\n",
       "    }\n",
       "\n",
       "    .dataframe thead tr:last-of-type th {\n",
       "        text-align: right;\n",
       "    }\n",
       "</style>\n",
       "<table border=\"1\" class=\"dataframe\">\n",
       "  <thead>\n",
       "    <tr>\n",
       "      <th></th>\n",
       "      <th colspan=\"3\" halign=\"left\">total_spent</th>\n",
       "      <th colspan=\"3\" halign=\"left\">max_order</th>\n",
       "    </tr>\n",
       "    <tr>\n",
       "      <th></th>\n",
       "      <th>mean</th>\n",
       "      <th>min</th>\n",
       "      <th>max</th>\n",
       "      <th>mean</th>\n",
       "      <th>min</th>\n",
       "      <th>max</th>\n",
       "    </tr>\n",
       "    <tr>\n",
       "      <th>region</th>\n",
       "      <th></th>\n",
       "      <th></th>\n",
       "      <th></th>\n",
       "      <th></th>\n",
       "      <th></th>\n",
       "      <th></th>\n",
       "    </tr>\n",
       "  </thead>\n",
       "  <tbody>\n",
       "    <tr>\n",
       "      <th>Midwest</th>\n",
       "      <td>3358.50</td>\n",
       "      <td>7.0</td>\n",
       "      <td>26394.9</td>\n",
       "      <td>33.93</td>\n",
       "      <td>5</td>\n",
       "      <td>99</td>\n",
       "    </tr>\n",
       "    <tr>\n",
       "      <th>Northeast</th>\n",
       "      <td>3438.61</td>\n",
       "      <td>7.7</td>\n",
       "      <td>22777.9</td>\n",
       "      <td>34.60</td>\n",
       "      <td>5</td>\n",
       "      <td>99</td>\n",
       "    </tr>\n",
       "    <tr>\n",
       "      <th>South</th>\n",
       "      <td>3424.80</td>\n",
       "      <td>6.8</td>\n",
       "      <td>24307.1</td>\n",
       "      <td>34.48</td>\n",
       "      <td>5</td>\n",
       "      <td>99</td>\n",
       "    </tr>\n",
       "    <tr>\n",
       "      <th>West</th>\n",
       "      <td>3450.73</td>\n",
       "      <td>5.0</td>\n",
       "      <td>18910.0</td>\n",
       "      <td>34.68</td>\n",
       "      <td>5</td>\n",
       "      <td>99</td>\n",
       "    </tr>\n",
       "  </tbody>\n",
       "</table>\n",
       "</div>"
      ],
      "text/plain": [
       "          total_spent               max_order        \n",
       "                 mean  min      max      mean min max\n",
       "region                                               \n",
       "Midwest       3358.50  7.0  26394.9     33.93   5  99\n",
       "Northeast     3438.61  7.7  22777.9     34.60   5  99\n",
       "South         3424.80  6.8  24307.1     34.48   5  99\n",
       "West          3450.73  5.0  18910.0     34.68   5  99"
      ]
     },
     "execution_count": 224,
     "metadata": {},
     "output_type": "execute_result"
    }
   ],
   "source": [
    "df_merged.groupby('region').agg({'total_spent': ['mean', 'min', 'max'], 'max_order': ['mean', 'min', 'max']}).round(2)"
   ]
  },
  {
   "cell_type": "code",
   "execution_count": 225,
   "id": "c0f895ed",
   "metadata": {},
   "outputs": [
    {
     "data": {
      "text/html": [
       "<div>\n",
       "<style scoped>\n",
       "    .dataframe tbody tr th:only-of-type {\n",
       "        vertical-align: middle;\n",
       "    }\n",
       "\n",
       "    .dataframe tbody tr th {\n",
       "        vertical-align: top;\n",
       "    }\n",
       "\n",
       "    .dataframe thead tr th {\n",
       "        text-align: left;\n",
       "    }\n",
       "\n",
       "    .dataframe thead tr:last-of-type th {\n",
       "        text-align: right;\n",
       "    }\n",
       "</style>\n",
       "<table border=\"1\" class=\"dataframe\">\n",
       "  <thead>\n",
       "    <tr>\n",
       "      <th></th>\n",
       "      <th colspan=\"3\" halign=\"left\">total_spent</th>\n",
       "      <th colspan=\"3\" halign=\"left\">max_order</th>\n",
       "    </tr>\n",
       "    <tr>\n",
       "      <th></th>\n",
       "      <th>mean</th>\n",
       "      <th>min</th>\n",
       "      <th>max</th>\n",
       "      <th>mean</th>\n",
       "      <th>min</th>\n",
       "      <th>max</th>\n",
       "    </tr>\n",
       "    <tr>\n",
       "      <th>busiest_days</th>\n",
       "      <th></th>\n",
       "      <th></th>\n",
       "      <th></th>\n",
       "      <th></th>\n",
       "      <th></th>\n",
       "      <th></th>\n",
       "    </tr>\n",
       "  </thead>\n",
       "  <tbody>\n",
       "    <tr>\n",
       "      <th>Busiest days</th>\n",
       "      <td>3411.56</td>\n",
       "      <td>5.0</td>\n",
       "      <td>26394.9</td>\n",
       "      <td>33.41</td>\n",
       "      <td>5</td>\n",
       "      <td>99</td>\n",
       "    </tr>\n",
       "    <tr>\n",
       "      <th>Least busy days</th>\n",
       "      <td>3429.69</td>\n",
       "      <td>5.0</td>\n",
       "      <td>26394.9</td>\n",
       "      <td>35.87</td>\n",
       "      <td>5</td>\n",
       "      <td>99</td>\n",
       "    </tr>\n",
       "    <tr>\n",
       "      <th>Regularly busy</th>\n",
       "      <td>3417.83</td>\n",
       "      <td>5.0</td>\n",
       "      <td>26394.9</td>\n",
       "      <td>34.50</td>\n",
       "      <td>5</td>\n",
       "      <td>99</td>\n",
       "    </tr>\n",
       "  </tbody>\n",
       "</table>\n",
       "</div>"
      ],
      "text/plain": [
       "                total_spent               max_order        \n",
       "                       mean  min      max      mean min max\n",
       "busiest_days                                               \n",
       "Busiest days        3411.56  5.0  26394.9     33.41   5  99\n",
       "Least busy days     3429.69  5.0  26394.9     35.87   5  99\n",
       "Regularly busy      3417.83  5.0  26394.9     34.50   5  99"
      ]
     },
     "execution_count": 225,
     "metadata": {},
     "output_type": "execute_result"
    }
   ],
   "source": [
    "df_merged.groupby('busiest_days').agg({'total_spent': ['mean', 'min', 'max'], 'max_order': ['mean', 'min', 'max']}).round(2)"
   ]
  },
  {
   "cell_type": "code",
   "execution_count": 226,
   "id": "04ed7eaf",
   "metadata": {},
   "outputs": [
    {
     "data": {
      "text/html": [
       "<div>\n",
       "<style scoped>\n",
       "    .dataframe tbody tr th:only-of-type {\n",
       "        vertical-align: middle;\n",
       "    }\n",
       "\n",
       "    .dataframe tbody tr th {\n",
       "        vertical-align: top;\n",
       "    }\n",
       "\n",
       "    .dataframe thead tr th {\n",
       "        text-align: left;\n",
       "    }\n",
       "\n",
       "    .dataframe thead tr:last-of-type th {\n",
       "        text-align: right;\n",
       "    }\n",
       "</style>\n",
       "<table border=\"1\" class=\"dataframe\">\n",
       "  <thead>\n",
       "    <tr>\n",
       "      <th></th>\n",
       "      <th colspan=\"3\" halign=\"left\">total_spent</th>\n",
       "      <th colspan=\"3\" halign=\"left\">max_order</th>\n",
       "    </tr>\n",
       "    <tr>\n",
       "      <th></th>\n",
       "      <th>mean</th>\n",
       "      <th>min</th>\n",
       "      <th>max</th>\n",
       "      <th>mean</th>\n",
       "      <th>min</th>\n",
       "      <th>max</th>\n",
       "    </tr>\n",
       "    <tr>\n",
       "      <th>busiest_period_of_day</th>\n",
       "      <th></th>\n",
       "      <th></th>\n",
       "      <th></th>\n",
       "      <th></th>\n",
       "      <th></th>\n",
       "      <th></th>\n",
       "    </tr>\n",
       "  </thead>\n",
       "  <tbody>\n",
       "    <tr>\n",
       "      <th>Average orders</th>\n",
       "      <td>3404.60</td>\n",
       "      <td>5.0</td>\n",
       "      <td>26394.9</td>\n",
       "      <td>34.37</td>\n",
       "      <td>5</td>\n",
       "      <td>99</td>\n",
       "    </tr>\n",
       "    <tr>\n",
       "      <th>Fewest orders</th>\n",
       "      <td>3412.34</td>\n",
       "      <td>7.0</td>\n",
       "      <td>26394.9</td>\n",
       "      <td>34.42</td>\n",
       "      <td>5</td>\n",
       "      <td>99</td>\n",
       "    </tr>\n",
       "    <tr>\n",
       "      <th>Most orders</th>\n",
       "      <td>3425.20</td>\n",
       "      <td>5.0</td>\n",
       "      <td>26394.9</td>\n",
       "      <td>34.45</td>\n",
       "      <td>5</td>\n",
       "      <td>99</td>\n",
       "    </tr>\n",
       "  </tbody>\n",
       "</table>\n",
       "</div>"
      ],
      "text/plain": [
       "                      total_spent               max_order        \n",
       "                             mean  min      max      mean min max\n",
       "busiest_period_of_day                                            \n",
       "Average orders            3404.60  5.0  26394.9     34.37   5  99\n",
       "Fewest orders             3412.34  7.0  26394.9     34.42   5  99\n",
       "Most orders               3425.20  5.0  26394.9     34.45   5  99"
      ]
     },
     "execution_count": 226,
     "metadata": {},
     "output_type": "execute_result"
    }
   ],
   "source": [
    "df_merged.groupby('busiest_period_of_day').agg({'total_spent': ['mean', 'min', 'max'], 'max_order': ['mean', 'min', 'max']}).round(2)"
   ]
  },
  {
   "cell_type": "code",
   "execution_count": 227,
   "id": "4661ca00",
   "metadata": {},
   "outputs": [
    {
     "data": {
      "text/html": [
       "<div>\n",
       "<style scoped>\n",
       "    .dataframe tbody tr th:only-of-type {\n",
       "        vertical-align: middle;\n",
       "    }\n",
       "\n",
       "    .dataframe tbody tr th {\n",
       "        vertical-align: top;\n",
       "    }\n",
       "\n",
       "    .dataframe thead tr th {\n",
       "        text-align: left;\n",
       "    }\n",
       "\n",
       "    .dataframe thead tr:last-of-type th {\n",
       "        text-align: right;\n",
       "    }\n",
       "</style>\n",
       "<table border=\"1\" class=\"dataframe\">\n",
       "  <thead>\n",
       "    <tr>\n",
       "      <th></th>\n",
       "      <th colspan=\"3\" halign=\"left\">total_spent</th>\n",
       "      <th colspan=\"3\" halign=\"left\">max_order</th>\n",
       "    </tr>\n",
       "    <tr>\n",
       "      <th></th>\n",
       "      <th>mean</th>\n",
       "      <th>min</th>\n",
       "      <th>max</th>\n",
       "      <th>mean</th>\n",
       "      <th>min</th>\n",
       "      <th>max</th>\n",
       "    </tr>\n",
       "    <tr>\n",
       "      <th>dep_popularity</th>\n",
       "      <th></th>\n",
       "      <th></th>\n",
       "      <th></th>\n",
       "      <th></th>\n",
       "      <th></th>\n",
       "      <th></th>\n",
       "    </tr>\n",
       "  </thead>\n",
       "  <tbody>\n",
       "    <tr>\n",
       "      <th>Most Popular</th>\n",
       "      <td>3007.66</td>\n",
       "      <td>44.4</td>\n",
       "      <td>26394.9</td>\n",
       "      <td>31.17</td>\n",
       "      <td>5</td>\n",
       "      <td>99</td>\n",
       "    </tr>\n",
       "    <tr>\n",
       "      <th>Not popular</th>\n",
       "      <td>3312.75</td>\n",
       "      <td>5.0</td>\n",
       "      <td>26394.9</td>\n",
       "      <td>33.40</td>\n",
       "      <td>5</td>\n",
       "      <td>99</td>\n",
       "    </tr>\n",
       "    <tr>\n",
       "      <th>Regularly bought</th>\n",
       "      <td>3537.12</td>\n",
       "      <td>11.2</td>\n",
       "      <td>26394.9</td>\n",
       "      <td>35.57</td>\n",
       "      <td>5</td>\n",
       "      <td>99</td>\n",
       "    </tr>\n",
       "    <tr>\n",
       "      <th>nan</th>\n",
       "      <td>3043.38</td>\n",
       "      <td>13.7</td>\n",
       "      <td>22777.9</td>\n",
       "      <td>33.46</td>\n",
       "      <td>5</td>\n",
       "      <td>99</td>\n",
       "    </tr>\n",
       "  </tbody>\n",
       "</table>\n",
       "</div>"
      ],
      "text/plain": [
       "                 total_spent                max_order        \n",
       "                        mean   min      max      mean min max\n",
       "dep_popularity                                               \n",
       "Most Popular         3007.66  44.4  26394.9     31.17   5  99\n",
       "Not popular          3312.75   5.0  26394.9     33.40   5  99\n",
       "Regularly bought     3537.12  11.2  26394.9     35.57   5  99\n",
       "nan                  3043.38  13.7  22777.9     33.46   5  99"
      ]
     },
     "execution_count": 227,
     "metadata": {},
     "output_type": "execute_result"
    }
   ],
   "source": [
    "df_merged.groupby('dep_popularity').agg({'total_spent': ['mean', 'min', 'max'], 'max_order': ['mean', 'min', 'max']}).round(2)"
   ]
  },
  {
   "cell_type": "markdown",
   "id": "58aa6213",
   "metadata": {},
   "source": [
    "## #8) Compare your customer profiles with regions and departments. Can you identify a link between them? Customers may demonstrate different behaviors across regions, which could make this information important.\n"
   ]
  },
  {
   "cell_type": "code",
   "execution_count": 229,
   "id": "dc520f97",
   "metadata": {},
   "outputs": [],
   "source": [
    "# Group the data by 'region'\n",
    "grouped = df_merged.groupby('region')"
   ]
  },
  {
   "cell_type": "code",
   "execution_count": 230,
   "id": "e33dc8e8",
   "metadata": {},
   "outputs": [
    {
     "data": {
      "image/png": "[encoded data removed]",
      "text/plain": [
       "<Figure size 1000x1200 with 4 Axes>"
      ]
     },
     "metadata": {},
     "output_type": "display_data"
    }
   ],
   "source": [
    "# Define colors for each department\n",
    "colors = plt.cm.tab10(np.linspace(0, 1, 5))  \n",
    "\n",
    "# Create subplots for each region\n",
    "fig, axs = plt.subplots(nrows=len(grouped), ncols=1, figsize=(10, 12), sharex=True)\n",
    "\n",
    "# Plotting the horizontal bar chart for each region\n",
    "for i, (region, data) in enumerate(grouped):\n",
    "    department_counts = data['department'].value_counts().head(5)\n",
    "    \n",
    "    axs[i].barh(np.arange(5), department_counts.values, color=colors, edgecolor='black', height=0.3)  \n",
    "                                                                            # Set height to make bars thinner\n",
    "    axs[i].set_yticks(np.arange(5))\n",
    "    axs[i].set_yticklabels(department_counts.index[::-1])  # Reverse the order of departments\n",
    "    axs[i].set_ylabel('')\n",
    "    axs[i].set_title(f'Top 5 Departments in {region.capitalize()} Region')\n",
    "    axs[i].grid(axis='x', linestyle='--', alpha=0.7)\n",
    "    axs[i].invert_yaxis()  # Invert the y-axis to show the top department first\n",
    "\n",
    "plt.xlabel('Number of Occurrences')\n",
    "plt.tight_layout()\n",
    "plt.savefig(os.path.join(path, '04 Analysis','Visualizations','top5_region.png'),bbox_inches='tight')\n",
    "plt.show()"
   ]
  },
  {
   "cell_type": "code",
   "execution_count": 231,
   "id": "5fd3a370",
   "metadata": {},
   "outputs": [],
   "source": [
    "#Create a random patterns of 4\n",
    "np.random.seed(4)"
   ]
  },
  {
   "cell_type": "code",
   "execution_count": 232,
   "id": "28c0e1b5",
   "metadata": {},
   "outputs": [],
   "source": [
    "dev = np.random.rand(len(df_merged))<= 0.7"
   ]
  },
  {
   "cell_type": "code",
   "execution_count": 233,
   "id": "902d655f",
   "metadata": {},
   "outputs": [],
   "source": [
    "#Split in two samples\n",
    "big = df_merged[dev]\n",
    "small = df_merged[~dev]"
   ]
  },
  {
   "cell_type": "code",
   "execution_count": 234,
   "id": "5718f791",
   "metadata": {},
   "outputs": [
    {
     "data": {
      "text/plain": [
       "True"
      ]
     },
     "execution_count": 234,
     "metadata": {},
     "output_type": "execute_result"
    }
   ],
   "source": [
    "#check the length of the two samples to make sure they equal the whole\n",
    "len(df_merged)==len(big)+len(small)"
   ]
  },
  {
   "cell_type": "code",
   "execution_count": 260,
   "id": "498214a6",
   "metadata": {},
   "outputs": [],
   "source": [
    "crosstab_reg_dep = pd.crosstab(unique_users['department'],unique_users['region'], dropna = False)"
   ]
  },
  {
   "cell_type": "code",
   "execution_count": 261,
   "id": "13553afa",
   "metadata": {},
   "outputs": [
    {
     "data": {
      "text/html": [
       "<div>\n",
       "<style scoped>\n",
       "    .dataframe tbody tr th:only-of-type {\n",
       "        vertical-align: middle;\n",
       "    }\n",
       "\n",
       "    .dataframe tbody tr th {\n",
       "        vertical-align: top;\n",
       "    }\n",
       "\n",
       "    .dataframe thead th {\n",
       "        text-align: right;\n",
       "    }\n",
       "</style>\n",
       "<table border=\"1\" class=\"dataframe\">\n",
       "  <thead>\n",
       "    <tr style=\"text-align: right;\">\n",
       "      <th>region</th>\n",
       "      <th>Midwest</th>\n",
       "      <th>Northeast</th>\n",
       "      <th>South</th>\n",
       "      <th>West</th>\n",
       "    </tr>\n",
       "    <tr>\n",
       "      <th>department</th>\n",
       "      <th></th>\n",
       "      <th></th>\n",
       "      <th></th>\n",
       "      <th></th>\n",
       "    </tr>\n",
       "  </thead>\n",
       "  <tbody>\n",
       "    <tr>\n",
       "      <th>alcohol</th>\n",
       "      <td>7</td>\n",
       "      <td>4</td>\n",
       "      <td>12</td>\n",
       "      <td>4</td>\n",
       "    </tr>\n",
       "    <tr>\n",
       "      <th>babies</th>\n",
       "      <td>0</td>\n",
       "      <td>1</td>\n",
       "      <td>0</td>\n",
       "      <td>0</td>\n",
       "    </tr>\n",
       "    <tr>\n",
       "      <th>bakery</th>\n",
       "      <td>4</td>\n",
       "      <td>3</td>\n",
       "      <td>1</td>\n",
       "      <td>3</td>\n",
       "    </tr>\n",
       "    <tr>\n",
       "      <th>beverages</th>\n",
       "      <td>33745</td>\n",
       "      <td>25076</td>\n",
       "      <td>47561</td>\n",
       "      <td>36359</td>\n",
       "    </tr>\n",
       "    <tr>\n",
       "      <th>breakfast</th>\n",
       "      <td>2</td>\n",
       "      <td>3</td>\n",
       "      <td>4</td>\n",
       "      <td>2</td>\n",
       "    </tr>\n",
       "    <tr>\n",
       "      <th>canned goods</th>\n",
       "      <td>0</td>\n",
       "      <td>0</td>\n",
       "      <td>1</td>\n",
       "      <td>0</td>\n",
       "    </tr>\n",
       "    <tr>\n",
       "      <th>dairy eggs</th>\n",
       "      <td>4025</td>\n",
       "      <td>3035</td>\n",
       "      <td>5750</td>\n",
       "      <td>4444</td>\n",
       "    </tr>\n",
       "    <tr>\n",
       "      <th>deli</th>\n",
       "      <td>2</td>\n",
       "      <td>1</td>\n",
       "      <td>1</td>\n",
       "      <td>2</td>\n",
       "    </tr>\n",
       "    <tr>\n",
       "      <th>dry goods pasta</th>\n",
       "      <td>0</td>\n",
       "      <td>0</td>\n",
       "      <td>1</td>\n",
       "      <td>0</td>\n",
       "    </tr>\n",
       "    <tr>\n",
       "      <th>frozen</th>\n",
       "      <td>6</td>\n",
       "      <td>10</td>\n",
       "      <td>13</td>\n",
       "      <td>7</td>\n",
       "    </tr>\n",
       "    <tr>\n",
       "      <th>household</th>\n",
       "      <td>86</td>\n",
       "      <td>55</td>\n",
       "      <td>114</td>\n",
       "      <td>93</td>\n",
       "    </tr>\n",
       "    <tr>\n",
       "      <th>international</th>\n",
       "      <td>1</td>\n",
       "      <td>0</td>\n",
       "      <td>1</td>\n",
       "      <td>0</td>\n",
       "    </tr>\n",
       "    <tr>\n",
       "      <th>meat seafood</th>\n",
       "      <td>0</td>\n",
       "      <td>0</td>\n",
       "      <td>0</td>\n",
       "      <td>1</td>\n",
       "    </tr>\n",
       "    <tr>\n",
       "      <th>pantry</th>\n",
       "      <td>10</td>\n",
       "      <td>8</td>\n",
       "      <td>11</td>\n",
       "      <td>7</td>\n",
       "    </tr>\n",
       "    <tr>\n",
       "      <th>personal care</th>\n",
       "      <td>2</td>\n",
       "      <td>0</td>\n",
       "      <td>1</td>\n",
       "      <td>1</td>\n",
       "    </tr>\n",
       "    <tr>\n",
       "      <th>produce</th>\n",
       "      <td>154</td>\n",
       "      <td>136</td>\n",
       "      <td>257</td>\n",
       "      <td>181</td>\n",
       "    </tr>\n",
       "    <tr>\n",
       "      <th>snacks</th>\n",
       "      <td>332</td>\n",
       "      <td>249</td>\n",
       "      <td>465</td>\n",
       "      <td>377</td>\n",
       "    </tr>\n",
       "  </tbody>\n",
       "</table>\n",
       "</div>"
      ],
      "text/plain": [
       "region           Midwest  Northeast  South   West\n",
       "department                                       \n",
       "alcohol                7          4     12      4\n",
       "babies                 0          1      0      0\n",
       "bakery                 4          3      1      3\n",
       "beverages          33745      25076  47561  36359\n",
       "breakfast              2          3      4      2\n",
       "canned goods           0          0      1      0\n",
       "dairy eggs          4025       3035   5750   4444\n",
       "deli                   2          1      1      2\n",
       "dry goods pasta        0          0      1      0\n",
       "frozen                 6         10     13      7\n",
       "household             86         55    114     93\n",
       "international          1          0      1      0\n",
       "meat seafood           0          0      0      1\n",
       "pantry                10          8     11      7\n",
       "personal care          2          0      1      1\n",
       "produce              154        136    257    181\n",
       "snacks               332        249    465    377"
      ]
     },
     "execution_count": 261,
     "metadata": {},
     "output_type": "execute_result"
    }
   ],
   "source": [
    "crosstab_reg_dep"
   ]
  },
  {
   "cell_type": "code",
   "execution_count": 267,
   "id": "44f85b7d",
   "metadata": {},
   "outputs": [
    {
     "data": {
      "text/plain": [
       "<Figure size 800x1000 with 0 Axes>"
      ]
     },
     "metadata": {},
     "output_type": "display_data"
    },
    {
     "data": {
      "image/png": "[encoded data removed]",
      "text/plain": [
       "<Figure size 640x480 with 1 Axes>"
      ]
     },
     "metadata": {},
     "output_type": "display_data"
    }
   ],
   "source": [
    "plt.figure(figsize=(8, 10)) \n",
    "crosstab_reg_dep.plot(kind='bar', stacked=True)\n",
    "plt.title('Department Preference by Region')\n",
    "plt.xlabel('department')\n",
    "plt.ylabel('count of users')\n",
    "plt.xticks(rotation=45) \n",
    "plt.grid(axis='y', linestyle='--', alpha=0.7)\n",
    "plt.legend(title='region',loc='upper left', bbox_to_anchor=(1.05, 1)) \n",
    "plt.tight_layout() \n",
    "# Add x tick mark labels, position adjusted\n",
    "plt.xticks(rotation=30, ha='right', fontsize=5)\n",
    "\n",
    "plt.savefig(os.path.join(path, '04 Analysis','Visualizations','bar_region_dep_pref.png'),bbox_inches='tight')\n",
    "plt.show()\n"
   ]
  },
  {
   "cell_type": "markdown",
   "id": "95bba487",
   "metadata": {},
   "source": [
    "### This shows that within the departments, all regions prefered beverages department, followed by dairy & eggs department (this doesn't make sense as it doesn't line up with above visualization.  I may have entered values wrong) - I will not use this in my final presentation but decided to keep so I can refer back if I need to."
   ]
  },
  {
   "cell_type": "markdown",
   "id": "7c83cb72",
   "metadata": {},
   "source": [
    "#note that this dataframe was already exported as 'instacart_merged_2.pkl'"
   ]
  },
  {
   "cell_type": "code",
   "execution_count": null,
   "id": "9a9c7d4f",
   "metadata": {},
   "outputs": [],
   "source": []
  }
 ],
 "metadata": {
  "kernelspec": {
   "display_name": "Python 3 (ipykernel)",
   "language": "python",
   "name": "python3"
  },
  "language_info": {
   "codemirror_mode": {
    "name": "ipython",
    "version": 3
   },
   "file_extension": ".py",
   "mimetype": "text/x-python",
   "name": "python",
   "nbconvert_exporter": "python",
   "pygments_lexer": "ipython3",
   "version": "3.11.7"
  }
 },
 "nbformat": 4,
 "nbformat_minor": 5
}
