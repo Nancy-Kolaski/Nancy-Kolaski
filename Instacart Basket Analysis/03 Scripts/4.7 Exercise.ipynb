{
 "cells": [
  {
   "cell_type": "markdown",
   "id": "1f8c5b55",
   "metadata": {},
   "source": [
    "# 4.7 Deriving New Variables\n",
    "## -Derive new variables using if-statements and for-loops\n",
    "### -create 'price_label column, 'busiest_day' column, 'busiest_days' (plural), busiest_period_of_day'\n",
    "## -Export as 'ords_prods_merged_derived.pkl'"
   ]
  },
  {
   "cell_type": "markdown",
   "id": "5eaad9a0",
   "metadata": {},
   "source": [
    "## Import Libraries & dataframe"
   ]
  },
  {
   "cell_type": "code",
   "execution_count": 1,
   "id": "d7e3a0b0",
   "metadata": {},
   "outputs": [],
   "source": [
    "#import libraries\n",
    "import pandas as pd\n",
    "import numpy as np\n",
    "import os"
   ]
  },
  {
   "cell_type": "code",
   "execution_count": 2,
   "id": "48896269",
   "metadata": {},
   "outputs": [],
   "source": [
    "#import path\n",
    "path = r'/Users/nancykray/Desktop/Instacart Basket Analysis'"
   ]
  },
  {
   "cell_type": "code",
   "execution_count": 3,
   "id": "c0d7dede",
   "metadata": {},
   "outputs": [
    {
     "data": {
      "text/plain": [
       "'/Users/nancykray/Desktop/Instacart Basket Analysis'"
      ]
     },
     "execution_count": 3,
     "metadata": {},
     "output_type": "execute_result"
    }
   ],
   "source": [
    "path"
   ]
  },
  {
   "cell_type": "code",
   "execution_count": 4,
   "id": "3747f6be",
   "metadata": {},
   "outputs": [],
   "source": [
    "#import dataset 'ords_prods_merge' \n",
    "df_ords_prods_merge = pd.read_pickle(os.path.join(path, '02 Data', 'Prepared Data', 'ords_prods_merge.pkl'))"
   ]
  },
  {
   "cell_type": "code",
   "execution_count": 5,
   "id": "6bd1f2c6",
   "metadata": {},
   "outputs": [],
   "source": [
    "#use a subset to save memory due to its large size (first million rows in the dataframe)\n",
    "df = df_ords_prods_merge[:1000000]"
   ]
  },
  {
   "cell_type": "markdown",
   "id": "8995356b",
   "metadata": {},
   "source": [
    "## Create a 'price-label' column"
   ]
  },
  {
   "cell_type": "code",
   "execution_count": 6,
   "id": "8595c0b2",
   "metadata": {},
   "outputs": [],
   "source": [
    "#create a 'price_label' function to each row designating it as low-, mid-, or high-range product based on its price\n",
    "\n",
    "def price_label(row):\n",
    "\n",
    "  if row['prices'] <= 5:\n",
    "    return 'Low-range product'\n",
    "  elif (row['prices'] > 5) and (row['prices'] <= 15):\n",
    "    return 'Mid-range product'\n",
    "  elif row['prices'] > 15:\n",
    "    return 'High range'\n",
    "  else: return 'Not enough data'\n"
   ]
  },
  {
   "cell_type": "code",
   "execution_count": 7,
   "id": "237cd11a",
   "metadata": {},
   "outputs": [
    {
     "name": "stderr",
     "output_type": "stream",
     "text": [
      "/var/folders/fb/2jrdrrb52mv7jbhxt0nbx_740000gn/T/ipykernel_17691/3314958603.py:2: SettingWithCopyWarning: \n",
      "A value is trying to be set on a copy of a slice from a DataFrame.\n",
      "Try using .loc[row_indexer,col_indexer] = value instead\n",
      "\n",
      "See the caveats in the documentation: https://pandas.pydata.org/pandas-docs/stable/user_guide/indexing.html#returning-a-view-versus-a-copy\n",
      "  df['price_range'] = df.apply(price_label, axis=1)\n"
     ]
    }
   ],
   "source": [
    "#now that the function is defined, lets use it \n",
    "df['price_range'] = df.apply(price_label, axis=1)"
   ]
  },
  {
   "cell_type": "code",
   "execution_count": 8,
   "id": "67022b53",
   "metadata": {},
   "outputs": [
    {
     "data": {
      "text/plain": [
       "price_range\n",
       "Mid-range product    756450\n",
       "Low-range product    243550\n",
       "Name: count, dtype: int64"
      ]
     },
     "execution_count": 8,
     "metadata": {},
     "output_type": "execute_result"
    }
   ],
   "source": [
    "#ignoring that message for now, run the 'value_counts' function to check the values in your new column\n",
    "df['price_range'].value_counts(dropna = False)"
   ]
  },
  {
   "cell_type": "code",
   "execution_count": 9,
   "id": "2b5f5116",
   "metadata": {},
   "outputs": [
    {
     "data": {
      "text/plain": [
       "14.8"
      ]
     },
     "execution_count": 9,
     "metadata": {},
     "output_type": "execute_result"
    }
   ],
   "source": [
    "#use max() function to check the most expensive product in the dataset\n",
    "df['prices'].max()"
   ]
  },
  {
   "cell_type": "code",
   "execution_count": 10,
   "id": "2d2a9663",
   "metadata": {},
   "outputs": [
    {
     "name": "stderr",
     "output_type": "stream",
     "text": [
      "/var/folders/fb/2jrdrrb52mv7jbhxt0nbx_740000gn/T/ipykernel_17691/826306043.py:2: SettingWithCopyWarning: \n",
      "A value is trying to be set on a copy of a slice from a DataFrame.\n",
      "Try using .loc[row_indexer,col_indexer] = value instead\n",
      "\n",
      "See the caveats in the documentation: https://pandas.pydata.org/pandas-docs/stable/user_guide/indexing.html#returning-a-view-versus-a-copy\n",
      "  df.loc[df['prices'] > 15, 'price_range_loc'] = 'High-range product'\n"
     ]
    }
   ],
   "source": [
    "# use loc() Function (as suggested earlier in the red warning by python)\n",
    "df.loc[df['prices'] > 15, 'price_range_loc'] = 'High-range product'"
   ]
  },
  {
   "cell_type": "code",
   "execution_count": 11,
   "id": "8e0ada90",
   "metadata": {},
   "outputs": [],
   "source": [
    "df.loc[(df['prices'] <= 15) & (df['prices'] > 5), 'price_range_loc'] = 'Mid-range product'"
   ]
  },
  {
   "cell_type": "code",
   "execution_count": 12,
   "id": "cfb51216",
   "metadata": {},
   "outputs": [],
   "source": [
    "df.loc[df['prices'] <= 5, 'price_range_loc'] = 'Low-range product'"
   ]
  },
  {
   "cell_type": "code",
   "execution_count": 13,
   "id": "a0a90fcd",
   "metadata": {},
   "outputs": [
    {
     "data": {
      "text/plain": [
       "price_range_loc\n",
       "Mid-range product    756450\n",
       "Low-range product    243550\n",
       "Name: count, dtype: int64"
      ]
     },
     "execution_count": 13,
     "metadata": {},
     "output_type": "execute_result"
    }
   ],
   "source": [
    "# use the value_counts() function to count the number of products within each label\n",
    "df['price_range_loc'].value_counts(dropna=False)"
   ]
  },
  {
   "cell_type": "code",
   "execution_count": 14,
   "id": "e9fd87b3",
   "metadata": {},
   "outputs": [],
   "source": [
    "# Use loc() method on entire ords_prods_merge dataframe to apply price range function\n",
    "\n",
    "df_ords_prods_merge.loc[df_ords_prods_merge['prices'] > 15, 'price_range_loc'] = 'High-range product'"
   ]
  },
  {
   "cell_type": "code",
   "execution_count": 15,
   "id": "5b18faa4",
   "metadata": {},
   "outputs": [],
   "source": [
    "df_ords_prods_merge.loc[(df_ords_prods_merge['prices'] <= 15) & (df_ords_prods_merge['prices'] > 5), 'price_range_loc'] = 'Mid-range product'"
   ]
  },
  {
   "cell_type": "code",
   "execution_count": 16,
   "id": "34bea1fe",
   "metadata": {},
   "outputs": [],
   "source": [
    "df_ords_prods_merge.loc[df_ords_prods_merge['prices'] <= 5, 'price_range_loc'] = 'Low-range product'"
   ]
  },
  {
   "cell_type": "code",
   "execution_count": 17,
   "id": "f61629cb",
   "metadata": {},
   "outputs": [
    {
     "data": {
      "text/plain": [
       "price_range_loc\n",
       "Mid-range product     21860860\n",
       "Low-range product     10126321\n",
       "High-range product      417678\n",
       "Name: count, dtype: int64"
      ]
     },
     "execution_count": 17,
     "metadata": {},
     "output_type": "execute_result"
    }
   ],
   "source": [
    "df_ords_prods_merge['price_range_loc'].value_counts(dropna = False)"
   ]
  },
  {
   "cell_type": "markdown",
   "id": "1c502375",
   "metadata": {},
   "source": [
    "## Create a 'busiest_day' column"
   ]
  },
  {
   "cell_type": "code",
   "execution_count": 18,
   "id": "2ff4c375",
   "metadata": {},
   "outputs": [
    {
     "data": {
      "text/plain": [
       "orders_day_of_week\n",
       "0    6204182\n",
       "1    5660230\n",
       "6    4496490\n",
       "2    4213830\n",
       "5    4205791\n",
       "3    3840534\n",
       "4    3783802\n",
       "Name: count, dtype: int64"
      ]
     },
     "execution_count": 18,
     "metadata": {},
     "output_type": "execute_result"
    }
   ],
   "source": [
    "df_ords_prods_merge['orders_day_of_week'].value_counts(dropna=False)"
   ]
  },
  {
   "cell_type": "code",
   "execution_count": 19,
   "id": "19ba4362",
   "metadata": {},
   "outputs": [
    {
     "ename": "NameError",
     "evalue": "name 'result' is not defined",
     "output_type": "error",
     "traceback": [
      "\u001b[0;31m---------------------------------------------------------------------------\u001b[0m",
      "\u001b[0;31mNameError\u001b[0m                                 Traceback (most recent call last)",
      "Cell \u001b[0;32mIn[19], line 13\u001b[0m\n\u001b[1;32m     11\u001b[0m   result\u001b[38;5;241m.\u001b[39mappend(\u001b[38;5;124m\"\u001b[39m\u001b[38;5;124mLeast busy\u001b[39m\u001b[38;5;124m\"\u001b[39m)\n\u001b[1;32m     12\u001b[0m \u001b[38;5;28;01melse\u001b[39;00m:\n\u001b[0;32m---> 13\u001b[0m   result\u001b[38;5;241m.\u001b[39mappend(\u001b[38;5;124m\"\u001b[39m\u001b[38;5;124mRegularly busy\u001b[39m\u001b[38;5;124m\"\u001b[39m)\n",
      "\u001b[0;31mNameError\u001b[0m: name 'result' is not defined"
     ]
    }
   ],
   "source": [
    "# Use for-loop to determine whether orders are on busiest, least busy, or regularly busy days:\n",
    "# \"busiest day\" (0 = Saturday)\n",
    "# \"least busy\" (4 = Wednesday)\n",
    "# \"regularly busy\" (other days of the week)\n",
    "\n",
    "\n",
    "for value in df_ords_prods_merge[\"orders_day_of_week\"]:\n",
    "  if value == 0:\n",
    "    result.append(\"Busiest day\")\n",
    "  elif value == 4:\n",
    "    result.append(\"Least busy\")\n",
    "  else:\n",
    "    result.append(\"Regularly busy\")"
   ]
  },
  {
   "cell_type": "code",
   "execution_count": null,
   "id": "9acc9893",
   "metadata": {},
   "outputs": [],
   "source": [
    "#check result\n",
    "result"
   ]
  },
  {
   "cell_type": "code",
   "execution_count": null,
   "id": "cd37bf07",
   "metadata": {},
   "outputs": [],
   "source": [
    "# makes sense of this by combining it with 'df_ords_prods_merge' dataset creating a 'result' column\n",
    "df_ords_prods_merge['busiest_day']=result"
   ]
  },
  {
   "cell_type": "code",
   "execution_count": null,
   "id": "3c1562b4",
   "metadata": {},
   "outputs": [],
   "source": [
    "#check with value_counts\n",
    "df_ords_prods_merge['busiest_day'].value_counts(dropna=False)"
   ]
  },
  {
   "cell_type": "markdown",
   "id": "b223a3e0",
   "metadata": {},
   "source": [
    "## (#2) clients changed their minds and want two busiest and two slowest days.  We have to create a new column for the 2 busiest days and for the 2 slowest days."
   ]
  },
  {
   "cell_type": "code",
   "execution_count": null,
   "id": "297e8053",
   "metadata": {},
   "outputs": [],
   "source": [
    "#re-checking the days with number of orders again for easier view with next step\n",
    "df_ords_prods_merge['orders_day_of_week'].value_counts(dropna=False)"
   ]
  },
  {
   "cell_type": "code",
   "execution_count": null,
   "id": "c1950283",
   "metadata": {},
   "outputs": [],
   "source": [
    "#using for-loop to determine whether orders are on busiest, least busy, or regularly busy days:\n",
    "# \"busiest days\" (0 & 1 or Sat/Sun)\n",
    "# \"least busy days\" (4 & 3 or Wed and Tues)\n",
    "# \"regularly busy\" (other days 2, 5, 6 or Mon, Thurs & Fri)\n",
    "\n",
    "result = []\n",
    "for value in df_ords_prods_merge[\"orders_day_of_week\"]:\n",
    "  if value == 0 or value ==1:\n",
    "    result.append(\"Busiest days\")\n",
    "  elif value == 4 or value == 3:\n",
    "    result.append(\"Least busy days\")\n",
    "  else:\n",
    "    result.append(\"Regularly busy\")"
   ]
  },
  {
   "cell_type": "code",
   "execution_count": null,
   "id": "bd1b336b",
   "metadata": {},
   "outputs": [],
   "source": [
    "result"
   ]
  },
  {
   "cell_type": "markdown",
   "id": "0b94daa1",
   "metadata": {},
   "source": [
    "## (3) Check the values of this new column for accuracy. Note any observations "
   ]
  },
  {
   "cell_type": "code",
   "execution_count": null,
   "id": "a3fe0713",
   "metadata": {},
   "outputs": [],
   "source": [
    "#makes sense of this by combining it with 'df_ords_prods_merge' dataset creating a 'result' column\n",
    "df_ords_prods_merge['busiest_days'] = result"
   ]
  },
  {
   "cell_type": "code",
   "execution_count": null,
   "id": "835c7bad",
   "metadata": {},
   "outputs": [],
   "source": [
    "# check with value_counts\n",
    "df_ords_prods_merge['busiest_days'].value_counts(dropna = False)"
   ]
  },
  {
   "cell_type": "code",
   "execution_count": null,
   "id": "c325f081",
   "metadata": {},
   "outputs": [],
   "source": [
    "# Check output of df_ords_prods_merge with new \"busiest days\" column.\n",
    "\n",
    "df_ords_prods_merge.head()"
   ]
  },
  {
   "cell_type": "markdown",
   "id": "9bf9f62f",
   "metadata": {},
   "source": [
    "### this shows that there is a busiest_day column and a busiest days column, but they don't really make sense in this display as they are showing \"regularly busy\" or \"least busy\""
   ]
  },
  {
   "cell_type": "markdown",
   "id": "b7828c11",
   "metadata": {},
   "source": [
    "## (4) When too many users make Instacart orders at the same time, the app freezes. The senior technical officer at Instacart wants you to identify the busiest hours of the day. Rather than by hour, they want periods of time labeled “Most orders,” “Average orders,” and “Fewest orders.” Create a new column containing these labels called “busiest_period_of_day."
   ]
  },
  {
   "cell_type": "markdown",
   "id": "792e85ed",
   "metadata": {},
   "source": [
    "### look at times"
   ]
  },
  {
   "cell_type": "code",
   "execution_count": null,
   "id": "bb3a6094",
   "metadata": {},
   "outputs": [],
   "source": [
    "#check the time with value_counts\n",
    "df_ords_prods_merge['order_time'].value_counts(dropna=False)"
   ]
  },
  {
   "cell_type": "markdown",
   "id": "23351227",
   "metadata": {},
   "source": [
    "### since we want to separate in periods of time, divide it 3 ways where (24/3=8 so each category has 8 times)\n",
    "### 'most orders' = 10, 11, 14, 15, 13, 12, 16, 9\n",
    "### 'average orders'= 17, 8, 18, 19, 20, 7, 21, 22 (or all remaining values)\n",
    "### 'fewest orders' = 23, 6, 0, 1, 5, 2, 4, 3\n"
   ]
  },
  {
   "cell_type": "code",
   "execution_count": null,
   "id": "439753aa",
   "metadata": {},
   "outputs": [],
   "source": [
    "# Create for-loop if statement labeling periods of time as “Most orders,” “Average orders,” and “Fewest orders.”\n",
    "\n",
    "result_3 = []\n",
    "\n",
    "for value in df_ords_prods_merge[\"order_time\"]:\n",
    "  if value in [10, 11, 14, 15, 13, 12, 16, 9]:\n",
    "    result_3.append(\"Most orders\")\n",
    "  elif value in [23, 6, 0, 1, 5, 2, 4, 3]:\n",
    "    result_3.append(\"Fewest orders\")\n",
    "  else:\n",
    "    result_3.append(\"Average orders\")"
   ]
  },
  {
   "cell_type": "code",
   "execution_count": null,
   "id": "92118d7e",
   "metadata": {},
   "outputs": [],
   "source": [
    "result_3"
   ]
  },
  {
   "cell_type": "code",
   "execution_count": null,
   "id": "007bb111",
   "metadata": {},
   "outputs": [],
   "source": [
    "#makes sense of this by combining it with 'df_ords_prods_merge' dataset creating a 'busiest_period_of_day' column\n",
    "\n",
    "df_ords_prods_merge['busiest_period_of_day'] = result_3"
   ]
  },
  {
   "cell_type": "markdown",
   "id": "c64596a4",
   "metadata": {},
   "source": [
    "## (#5) print the frequency for this new column"
   ]
  },
  {
   "cell_type": "code",
   "execution_count": null,
   "id": "2b195d2e",
   "metadata": {},
   "outputs": [],
   "source": [
    "#use value_counts to accomplish this\n",
    "df_ords_prods_merge['busiest_period_of_day'].value_counts(dropna = False)"
   ]
  },
  {
   "cell_type": "markdown",
   "id": "1717b408",
   "metadata": {},
   "source": [
    "## (#7) Export the dataframe as a picklefile to the 'Prepared Data' folder"
   ]
  },
  {
   "cell_type": "code",
   "execution_count": null,
   "id": "b3482a2d",
   "metadata": {},
   "outputs": [],
   "source": [
    "df_ords_prods_merge.to_pickle(os.path.join(path, '02 Data', 'Prepared Data', 'ords_prods_merged_derived.pkl'))"
   ]
  },
  {
   "cell_type": "code",
   "execution_count": null,
   "id": "b15964b0",
   "metadata": {},
   "outputs": [],
   "source": []
  }
 ],
 "metadata": {
  "kernelspec": {
   "display_name": "Python 3 (ipykernel)",
   "language": "python",
   "name": "python3"
  },
  "language_info": {
   "codemirror_mode": {
    "name": "ipython",
    "version": 3
   },
   "file_extension": ".py",
   "mimetype": "text/x-python",
   "name": "python",
   "nbconvert_exporter": "python",
   "pygments_lexer": "ipython3",
   "version": "3.11.7"
  }
 },
 "nbformat": 4,
 "nbformat_minor": 5
}
